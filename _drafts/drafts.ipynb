{
 "cells": [
  {
   "cell_type": "code",
   "execution_count": null,
   "metadata": {},
   "outputs": [],
   "source": [
    "# If gspx is not installed, we add it to the path\n",
    "import os, sys\n",
    "gdir = os.path.dirname(os.getcwd())  # parent folder\n",
    "sys.path.insert(0, gdir)"
   ]
  },
  {
   "cell_type": "code",
   "execution_count": null,
   "metadata": {},
   "outputs": [],
   "source": [
    "from gspx.signals import QuaternionSignal\n",
    "from pyquaternion import Quaternion\n",
    "\n",
    "arrays = [\n",
    "    [2, 2, 8, 0],\n",
    "    [4, 5, 6, 5],\n",
    "    [1, 9, 4, 1],\n",
    "    [0, 7, 8, 5],\n",
    "    [6, 0, 4, 9],\n",
    "    [7, 0, 9, 6],\n",
    "    [9, 2, 7, 3],\n",
    "    [9, 0, 0, 0],\n",
    "    [9, 5, 8, 6],\n",
    "    [0, 7, 8, 7]]\n",
    "\n",
    "s = QuaternionSignal.from_rectangular(arrays)\n",
    "q = s.involution([0.3, 1.3, 0.4, 1.0], inplace=False)\n",
    "q.samples.tolist()"
   ]
  },
  {
   "cell_type": "code",
   "execution_count": null,
   "metadata": {},
   "outputs": [],
   "source": [
    "from gspx.datasets import uk_weather\n",
    "\n",
    "df = uk_weather()\n",
    "s = QuaternionSignal.from_rectangular(\n",
    "    df[['wind_speed', 'humidity', 'pressure', 'temp']].to_numpy()\n",
    ")\n",
    "s.shape == (177,)"
   ]
  },
  {
   "cell_type": "code",
   "execution_count": null,
   "metadata": {},
   "outputs": [],
   "source": [
    "s.conjugate().samples * s.samples.T"
   ]
  },
  {
   "cell_type": "code",
   "execution_count": null,
   "metadata": {},
   "outputs": [],
   "source": []
  }
 ],
 "metadata": {
  "interpreter": {
   "hash": "ad7b04062b11f2f32ad39128cacc2a2bd2b4eeeabc2c58ebe8810cf900e3775b"
  },
  "kernelspec": {
   "display_name": "Python 3.7.11 ('gspx')",
   "language": "python",
   "name": "python3"
  },
  "language_info": {
   "codemirror_mode": {
    "name": "ipython",
    "version": 3
   },
   "file_extension": ".py",
   "mimetype": "text/x-python",
   "name": "python",
   "nbconvert_exporter": "python",
   "pygments_lexer": "ipython3",
   "version": "3.7.11"
  },
  "orig_nbformat": 4
 },
 "nbformat": 4,
 "nbformat_minor": 2
}
