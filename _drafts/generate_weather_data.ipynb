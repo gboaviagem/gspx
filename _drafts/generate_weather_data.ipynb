{
 "cells": [
  {
   "cell_type": "code",
   "execution_count": null,
   "metadata": {},
   "outputs": [],
   "source": [
    "# If gspx is not installed, we add it to the path\n",
    "import os, sys\n",
    "gdir = os.path.dirname(os.getcwd())  # parent folder\n",
    "sys.path.insert(0, gdir)"
   ]
  },
  {
   "cell_type": "code",
   "execution_count": null,
   "metadata": {},
   "outputs": [],
   "source": [
    "from gspx.datasets import uk_wind\n",
    "\n",
    "df = uk_wind()"
   ]
  },
  {
   "cell_type": "code",
   "execution_count": null,
   "metadata": {},
   "outputs": [],
   "source": [
    "import requests\n",
    "import time\n",
    "from tqdm import tqdm\n",
    "key = \"<write here your api key>\"\n",
    "\n",
    "data = dict()\n",
    "\n",
    "for idx, row in tqdm(df.iterrows(), total=len(df)):\n",
    "    def collect(d, field, new_value):\n",
    "        if field not in d:\n",
    "            d[field] = list()\n",
    "        d[field].append(new_value)\n",
    "\n",
    "    lat = row['LATITUDE']\n",
    "    lon = row['LONGITUDE']\n",
    "    response = requests.get(\n",
    "        \"https://api.openweathermap.org/data/2.5/weather?\"\n",
    "        f\"lat={lat}&lon={lon}&appid={key}\")\n",
    "    out = eval(response.text)\n",
    "    fields = ['humidity', 'pressure', 'temp']\n",
    "    for field in fields:\n",
    "        collect(data, field, out['main'][field])\n",
    "    collect(data, 'wind_speed', out['wind']['speed'])\n",
    "    collect(data, 'wind_degrees', out['wind']['deg'])\n",
    "    if idx % 10 == 0:\n",
    "        time.sleep(10)"
   ]
  },
  {
   "cell_type": "code",
   "execution_count": null,
   "metadata": {},
   "outputs": [],
   "source": [
    "import pandas as pd\n",
    "\n",
    "# Final request at: Wed, 20 Apr 2022 13:06:30 GMT\n",
    "df_weather = pd.concat((\n",
    "    df.drop(columns=['WIND_SPEED', 'WIND_DEGREES']),\n",
    "    pd.DataFrame(data)), axis=1)\n",
    "\n",
    "df_weather = df_weather.rename(columns={c: c.lower() for c in df_weather.columns})\n",
    "df_weather"
   ]
  },
  {
   "cell_type": "code",
   "execution_count": null,
   "metadata": {},
   "outputs": [],
   "source": [
    "df_weather.to_csv(\n",
    "    \"/home/gbr/gspx/resources/uk_weather_at_20Apr202213pm.gz\",\n",
    "    sep=\"\\t\", compression='gzip', index=False)"
   ]
  },
  {
   "cell_type": "code",
   "execution_count": null,
   "metadata": {},
   "outputs": [],
   "source": []
  }
 ],
 "metadata": {
  "interpreter": {
   "hash": "ad7b04062b11f2f32ad39128cacc2a2bd2b4eeeabc2c58ebe8810cf900e3775b"
  },
  "kernelspec": {
   "display_name": "Python 3.7.11 ('gspx')",
   "language": "python",
   "name": "python3"
  },
  "language_info": {
   "codemirror_mode": {
    "name": "ipython",
    "version": 3
   },
   "file_extension": ".py",
   "mimetype": "text/x-python",
   "name": "python",
   "nbconvert_exporter": "python",
   "pygments_lexer": "ipython3",
   "version": "3.7.11"
  },
  "orig_nbformat": 4
 },
 "nbformat": 4,
 "nbformat_minor": 2
}
