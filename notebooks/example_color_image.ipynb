{
 "cells": [
  {
   "cell_type": "code",
   "execution_count": null,
   "metadata": {},
   "outputs": [],
   "source": [
    "# If gspx is not installed, we add it to the path\n",
    "import os, sys\n",
    "gdir = os.path.dirname(os.getcwd())  # parent folder\n",
    "sys.path.insert(0, gdir)"
   ]
  },
  {
   "cell_type": "code",
   "execution_count": null,
   "metadata": {},
   "outputs": [],
   "source": [
    "import numpy as np\n",
    "from gspx.signals import QuaternionSignal\n",
    "\n",
    "import numpy as np\n",
    "\n",
    "# Creating and visualizing a quaternion square matrix as a\n",
    "# color image on a grid graph\n",
    "n = 8\n",
    "layer_i = np.ones((n,n)) @ np.diag(np.arange(n))\n",
    "layer_j = np.diag(np.arange(n)) @ np.ones((n,n))\n",
    "layer_k = layer_i + layer_j\n",
    "\n",
    "layer_1 = np.zeros((n, n))\n",
    "for i in range(n):\n",
    "    for j in range(n):\n",
    "        layer_1[i, j] = ((i- n/2)**2) + ((j-n/2)**2)\n",
    "layer_1 = np.round(layer_1).astype(int)\n",
    "\n",
    "real_mat = np.dstack((layer_1, layer_i, layer_j, layer_k))\n",
    "s = real_mat.reshape(-1, 4)\n",
    "\n",
    "a = QuaternionSignal.from_rectangular(s)\n",
    "\n",
    "print(\"Signal shape:\", signal.shape)\n",
    "\n",
    "colors = [\n",
    "    tuple(list(rgb) + [alpha])\n",
    "    for rgb in signal / signal.max()\n",
    "]\n",
    "\n",
    "A, coords = make_grid(rows=nr, columns=nc)\n",
    "G = nx.from_scipy_sparse_matrix(A)\n",
    "\n",
    "nx.draw(G, pos=coords, node_color=colors)"
   ]
  },
  {
   "cell_type": "code",
   "execution_count": null,
   "metadata": {},
   "outputs": [],
   "source": [
    "from gspx.utils.graph import make_grid\n",
    "import matplotlib.pyplot as plt\n",
    "import networkx as nx\n",
    "\n",
    "alpha = 0.7\n",
    "\n",
    "arr = plt.imread(gdir + \"/resources/jelly_beans.tiff\")\n",
    "nr, nc, nchannels = arr.shape\n",
    "\n",
    "signal = arr.reshape((nc * nr, 3))\n",
    "print(\"Signal shape:\", signal.shape)\n",
    "\n",
    "colors = [\n",
    "    tuple(list(rgb) + [alpha])\n",
    "    for rgb in signal / signal.max()\n",
    "]\n",
    "\n",
    "A, coords = make_grid(rows=nr, columns=nc)\n",
    "G = nx.from_scipy_sparse_matrix(A)\n",
    "\n",
    "nx.draw(G, pos=coords, node_color=colors)"
   ]
  },
  {
   "cell_type": "code",
   "execution_count": null,
   "metadata": {},
   "outputs": [],
   "source": []
  }
 ],
 "metadata": {
  "interpreter": {
   "hash": "916dbcbb3f70747c44a77c7bcd40155683ae19c65e1c03b4aa3499c5328201f1"
  },
  "kernelspec": {
   "display_name": "Python 3.8.10 64-bit",
   "language": "python",
   "name": "python3"
  },
  "language_info": {
   "codemirror_mode": {
    "name": "ipython",
    "version": 3
   },
   "file_extension": ".py",
   "mimetype": "text/x-python",
   "name": "python",
   "nbconvert_exporter": "python",
   "pygments_lexer": "ipython3",
   "version": "3.7.12"
  },
  "orig_nbformat": 4
 },
 "nbformat": 4,
 "nbformat_minor": 2
}
