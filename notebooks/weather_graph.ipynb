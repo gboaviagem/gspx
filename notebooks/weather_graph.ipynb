{
 "cells": [
  {
   "cell_type": "code",
   "execution_count": null,
   "metadata": {},
   "outputs": [],
   "source": [
    "# If gspx is not installed, we add it to the path\n",
    "import os, sys\n",
    "gdir = os.path.dirname(os.getcwd())  # parent folder\n",
    "sys.path.insert(0, gdir)"
   ]
  },
  {
   "cell_type": "code",
   "execution_count": null,
   "metadata": {},
   "outputs": [],
   "source": [
    "from gspx.datasets import uk_weather\n",
    "import networkx as nx\n",
    "from gspx.utils.graph import nearest_neighbors\n",
    "import numpy as np\n",
    "\n",
    "df = uk_weather()\n",
    "positions = df[['longitude', 'latitude']].to_numpy()\n",
    "\n",
    "coords = df[['longitude', 'latitude']].to_numpy()\n",
    "A = nearest_neighbors(\n",
    "    positions,\n",
    "    n_neighbors=10).todense()\n",
    "\n",
    "xi, yi = np.where(A)\n",
    "edgelist = [\n",
    "    (xi[n], yi[n], {'weight': A[xi[n], yi[n]]})\n",
    "    for n in range(len(xi))\n",
    "]\n",
    "\n",
    "g = nx.Graph()\n",
    "g.add_edges_from(edgelist)"
   ]
  },
  {
   "cell_type": "code",
   "execution_count": null,
   "metadata": {},
   "outputs": [],
   "source": [
    "uk_weather()"
   ]
  },
  {
   "cell_type": "code",
   "execution_count": null,
   "metadata": {},
   "outputs": [],
   "source": [
    "df_ = df[['humidity', 'pressure', 'temp', 'wind_speed']]\n",
    "weather_data = (\n",
    "    (df_ - df_.min()) /\n",
    "    (df_.max() - df_.min())\n",
    ").to_numpy()"
   ]
  },
  {
   "cell_type": "code",
   "execution_count": null,
   "metadata": {},
   "outputs": [],
   "source": [
    "from gspx.signals import QuaternionSignal\n",
    "import numpy as np\n",
    "\n",
    "s = QuaternionSignal([\n",
    "    dict(array=row) for row in weather_data\n",
    "])"
   ]
  },
  {
   "cell_type": "code",
   "execution_count": null,
   "metadata": {},
   "outputs": [],
   "source": [
    "import matplotlib.pyplot as plt\n",
    "\n",
    "plt.figure(figsize=(5, 10))\n",
    "node_color = [tuple(rgba) for rgba in s.to_rgba()]\n",
    "nx.draw(\n",
    "    g, pos=positions, node_size=30,\n",
    "    edge_color=(0.8, 0.8, 0.8, 0.3),\n",
    "    with_labels=False, node_color=node_color)"
   ]
  },
  {
   "cell_type": "code",
   "execution_count": null,
   "metadata": {},
   "outputs": [],
   "source": [
    "import numpy as np\n",
    "\n",
    "L = nx.laplacian_matrix(g)\n",
    "eigvals, U = np.linalg.eig(L.toarray())"
   ]
  },
  {
   "cell_type": "code",
   "execution_count": null,
   "metadata": {},
   "outputs": [],
   "source": [
    "s_abs = np.array([q.norm for q in s.samples])\n",
    "\n",
    "plt.plot(np.sort(eigvals), np.sort(U.T @ s_abs), 'b.--')"
   ]
  },
  {
   "cell_type": "code",
   "execution_count": null,
   "metadata": {},
   "outputs": [],
   "source": [
    "idx = np.abs(eigvals) > 10\n",
    "hh = np.zeros(len(s_abs))\n",
    "hh[idx] = 1.0\n",
    "\n",
    "s_f = U @ ((U.T @ s_abs) * hh)"
   ]
  },
  {
   "cell_type": "code",
   "execution_count": null,
   "metadata": {},
   "outputs": [],
   "source": []
  }
 ],
 "metadata": {
  "interpreter": {
   "hash": "50f9ca3495cd5f957bb3dec367da9f5b4557b82d21010cefe2ba6d71fda74394"
  },
  "kernelspec": {
   "display_name": "Python 3.7.12 ('gspx')",
   "language": "python",
   "name": "python3"
  },
  "language_info": {
   "codemirror_mode": {
    "name": "ipython",
    "version": 3
   },
   "file_extension": ".py",
   "mimetype": "text/x-python",
   "name": "python",
   "nbconvert_exporter": "python",
   "pygments_lexer": "ipython3",
   "version": "3.7.11"
  },
  "orig_nbformat": 4
 },
 "nbformat": 4,
 "nbformat_minor": 2
}
