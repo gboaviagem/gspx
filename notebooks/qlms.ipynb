{
 "cells": [
  {
   "cell_type": "markdown",
   "metadata": {},
   "source": [
    "# FIR low-pass filter design on quaternion-weighted graph\n",
    "\n",
    "This example performs a task similar to the `lms.ipynb` notebook. Here\n",
    "we reconstruct a quaternion-valued graph signal from its noisy version,\n",
    "by means of a low-pass quaternion filter design via Quaternion Least Mean Squares (QLMS)."
   ]
  },
  {
   "cell_type": "code",
   "execution_count": null,
   "metadata": {},
   "outputs": [],
   "source": [
    "# If gspx is not installed, we add it to the path\n",
    "import os, sys\n",
    "gdir = os.path.dirname(os.getcwd())  # parent folder\n",
    "sys.path.insert(0, gdir)"
   ]
  },
  {
   "cell_type": "code",
   "execution_count": null,
   "metadata": {},
   "outputs": [],
   "source": [
    "import numpy as np\n",
    "\n",
    "from gspx.utils.display import plot_graph\n",
    "from gspx.datasets import WeatherGraphData, uk_weather\n",
    "from gspx.signals import QuaternionSignal\n",
    "from gspx.qgsp import create_quaternion_weights, QGFT, QMatrix"
   ]
  },
  {
   "cell_type": "markdown",
   "metadata": {},
   "source": [
    "## Quaternion-weighted graph"
   ]
  },
  {
   "cell_type": "code",
   "execution_count": null,
   "metadata": {},
   "outputs": [],
   "source": [
    "uk_data = WeatherGraphData()\n",
    "Ar, coords = uk_data.graph\n",
    "s = uk_data.signal"
   ]
  },
  {
   "cell_type": "code",
   "execution_count": null,
   "metadata": {},
   "outputs": [],
   "source": [
    "df = uk_weather()\n",
    "\n",
    "Aq = create_quaternion_weights(\n",
    "    Ar, df, icols=['humidity'], jcols=['temp'],\n",
    "    kcols=['wind_speed'], gauss_den=0.5)"
   ]
  },
  {
   "cell_type": "code",
   "execution_count": null,
   "metadata": {},
   "outputs": [],
   "source": [
    "plot_graph(\n",
    "    Aq.abs(), coords=coords,\n",
    "    figsize=(4, 8), colormap='viridis',\n",
    "    node_size=40)"
   ]
  },
  {
   "cell_type": "code",
   "execution_count": null,
   "metadata": {},
   "outputs": [],
   "source": [
    "qgft = QGFT()\n",
    "qgft.fit(Aq)"
   ]
  },
  {
   "cell_type": "markdown",
   "metadata": {},
   "source": [
    "## Creating a quaternionic heat kernel (smooth signal)"
   ]
  },
  {
   "cell_type": "code",
   "execution_count": null,
   "metadata": {},
   "outputs": [],
   "source": [
    "# Heat kernel in all 4 quaternion dimensions\n",
    "k = 0.2\n",
    "ss = np.zeros(len(qgft.idx_freq))\n",
    "ss[qgft.idx_freq] = np.exp(-k * np.arange(len(qgft.idx_freq)))\n",
    "\n",
    "ss = QuaternionSignal.from_rectangular(\n",
    "    np.hstack([ss[:, np.newaxis]] * 4)\n",
    ")"
   ]
  },
  {
   "cell_type": "code",
   "execution_count": null,
   "metadata": {},
   "outputs": [],
   "source": [
    "rnd = np.random.default_rng(seed=42)\n",
    "err_amplitude = 0.15\n",
    "\n",
    "nn = QuaternionSignal.from_equal_dimensions(\n",
    "    rnd.uniform(low=-err_amplitude, high=err_amplitude, size=len(ss))\n",
    ")"
   ]
  },
  {
   "cell_type": "markdown",
   "metadata": {},
   "source": [
    "Spectrum of the original smooth signal:"
   ]
  },
  {
   "cell_type": "code",
   "execution_count": null,
   "metadata": {},
   "outputs": [],
   "source": [
    "QuaternionSignal.show(ss, ordering=qgft.idx_freq)"
   ]
  },
  {
   "cell_type": "markdown",
   "metadata": {},
   "source": [
    "Noisy version of the grash signal signal (in the frequency domain):"
   ]
  },
  {
   "cell_type": "code",
   "execution_count": null,
   "metadata": {},
   "outputs": [],
   "source": [
    "QuaternionSignal.show(ss + nn, ordering=qgft.idx_freq)"
   ]
  },
  {
   "cell_type": "markdown",
   "metadata": {},
   "source": [
    "Original signal in the vertex domain:"
   ]
  },
  {
   "cell_type": "code",
   "execution_count": null,
   "metadata": {},
   "outputs": [],
   "source": [
    "s = qgft.inverse_transform(ss)\n",
    "\n",
    "obj = QuaternionSignal.from_samples(s.matrix.ravel())\n",
    "node_color = [tuple(rgba) for rgba in obj.to_rgba()]\n",
    "\n",
    "plot_graph(\n",
    "    Aq.abs(), coords=coords, colors=node_color,\n",
    "    figsize=(4, 8), colormap='viridis',\n",
    "    node_size=40)"
   ]
  },
  {
   "cell_type": "markdown",
   "metadata": {},
   "source": [
    "### Total variation of eigenvectors for each eigenvalue"
   ]
  },
  {
   "cell_type": "code",
   "execution_count": null,
   "metadata": {},
   "outputs": [],
   "source": [
    "import matplotlib.pyplot as plt\n",
    "import numpy as np\n",
    "\n",
    "plt.scatter(np.real(qgft.eigc), np.imag(qgft.eigc), c=qgft.tv_)\n",
    "plt.colorbar()\n",
    "plt.title(\"Total Variation of eigenvectors for each eigenvalue\")\n",
    "plt.xlabel(\"Real(eigvals)\")\n",
    "plt.ylabel(\"Imag(eigvals)\")\n",
    "plt.show()"
   ]
  },
  {
   "cell_type": "markdown",
   "metadata": {},
   "source": [
    "### Ideal low-pass filter frequency response"
   ]
  },
  {
   "cell_type": "code",
   "execution_count": null,
   "metadata": {},
   "outputs": [],
   "source": [
    "h_ideal = np.zeros(len(qgft.idx_freq))\n",
    "\n",
    "# Bandwith of 20% the frequency support\n",
    "bandwidth = int(len(qgft.idx_freq) / 5)\n",
    "h_ideal[qgft.idx_freq[:bandwidth]] = 1\n",
    "\n",
    "h_idealq = QuaternionSignal.from_rectangular(np.hstack((\n",
    "    h_ideal[:, np.newaxis],\n",
    "    np.zeros(len(qgft.idx_freq))[:, np.newaxis],\n",
    "    np.zeros(len(qgft.idx_freq))[:, np.newaxis],\n",
    "    np.zeros(len(qgft.idx_freq))[:, np.newaxis]\n",
    ")))\n",
    "QuaternionSignal.show(h_idealq, ordering=qgft.idx_freq)"
   ]
  },
  {
   "cell_type": "markdown",
   "metadata": {},
   "source": [
    "## Low-pass filter design via QLMS"
   ]
  },
  {
   "cell_type": "code",
   "execution_count": null,
   "metadata": {},
   "outputs": [],
   "source": [
    "from gspx.qgsp import QMatrix\n",
    "deg = 7\n",
    "\n",
    "X = QMatrix.vander(qgft.eigq, deg, increasing=True)\n",
    "y = h_idealq\n",
    "print(X.shape, y.shape)"
   ]
  },
  {
   "cell_type": "code",
   "execution_count": null,
   "metadata": {},
   "outputs": [],
   "source": [
    "from gspx.adaptive import QLMS\n",
    "\n",
    "qlms = QLMS(alpha=[0.2, 0.3, 0.35, 0.4])\n",
    "qlms.fit(X, y)\n",
    "qlms.plot(nsamples=100)"
   ]
  },
  {
   "cell_type": "markdown",
   "metadata": {},
   "source": [
    "### Quaternion-valued filter taps"
   ]
  },
  {
   "cell_type": "code",
   "execution_count": null,
   "metadata": {},
   "outputs": [],
   "source": [
    "qlms.res_[qlms.best_lr_]['result']"
   ]
  },
  {
   "cell_type": "markdown",
   "metadata": {},
   "source": [
    "### FIR filter response"
   ]
  },
  {
   "cell_type": "code",
   "execution_count": null,
   "metadata": {},
   "outputs": [],
   "source": [
    "h_opt = qlms.predict(X)\n",
    "h_opt = QuaternionSignal.from_samples(h_opt.matrix.ravel())\n",
    "QuaternionSignal.show(h_opt, ordering=qgft.idx_freq)"
   ]
  },
  {
   "cell_type": "markdown",
   "metadata": {},
   "source": [
    "### Signal reconstruction using both the ideal and the FIR low-pass filters"
   ]
  },
  {
   "cell_type": "code",
   "execution_count": null,
   "metadata": {},
   "outputs": [],
   "source": [
    "print(\"Ideal LPF filter.\")\n",
    "sn = qgft.inverse_transform(ss + nn)\n",
    "\n",
    "print(\"MSE prior (* 1000):\", 1000 * np.mean((s - sn).abs()**2))\n",
    "\n",
    "ssn_lpf = (ss + nn).hadamard(h_idealq)\n",
    "s_lpf = qgft.inverse_transform(ssn_lpf)\n",
    "\n",
    "print(\"MSE post (* 1000):\", 1000 * np.mean((s - s_lpf).abs()**2))\n",
    "\n",
    "QuaternionSignal.show(ssn_lpf, ordering=qgft.idx_freq)"
   ]
  },
  {
   "cell_type": "code",
   "execution_count": null,
   "metadata": {},
   "outputs": [],
   "source": [
    "print(\"FIR LPF filter.\")\n",
    "sn = qgft.inverse_transform(ss + nn)\n",
    "\n",
    "print(\"MSE prior (* 1000):\", 1000 * np.mean((s - sn).abs()**2))\n",
    "\n",
    "ssn_lpf = (ss + nn).hadamard(h_opt)\n",
    "s_lpf = qgft.inverse_transform(ssn_lpf)\n",
    "\n",
    "print(\"MSE post (* 1000):\", 1000 * np.mean((s - s_lpf).abs()**2))\n",
    "\n",
    "QuaternionSignal.show(ssn_lpf, ordering=qgft.idx_freq)"
   ]
  },
  {
   "cell_type": "code",
   "execution_count": null,
   "metadata": {},
   "outputs": [],
   "source": []
  }
 ],
 "metadata": {
  "kernelspec": {
   "display_name": "Python 3.7.12 ('gspx')",
   "language": "python",
   "name": "python3"
  },
  "language_info": {
   "codemirror_mode": {
    "name": "ipython",
    "version": 3
   },
   "file_extension": ".py",
   "mimetype": "text/x-python",
   "name": "python",
   "nbconvert_exporter": "python",
   "pygments_lexer": "ipython3",
   "version": "3.7.11"
  },
  "orig_nbformat": 4,
  "vscode": {
   "interpreter": {
    "hash": "50f9ca3495cd5f957bb3dec367da9f5b4557b82d21010cefe2ba6d71fda74394"
   }
  }
 },
 "nbformat": 4,
 "nbformat_minor": 2
}
