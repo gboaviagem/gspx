{
 "cells": [
  {
   "cell_type": "markdown",
   "metadata": {},
   "source": [
    "## q-QLMS"
   ]
  },
  {
   "cell_type": "code",
   "execution_count": null,
   "metadata": {},
   "outputs": [],
   "source": [
    "# If gspx is not installed, we add it to the path\n",
    "import os, sys\n",
    "gdir = os.path.dirname(os.getcwd())  # parent folder\n",
    "sys.path.insert(0, gdir)"
   ]
  },
  {
   "cell_type": "code",
   "execution_count": null,
   "metadata": {},
   "outputs": [],
   "source": [
    "import matplotlib.pyplot as plt\n",
    "from gspx.utils.graph import make_sensor\n",
    "from gspx.utils.display import plot_graph\n",
    "from gspx.signals import QuaternionSignal\n",
    "import numpy as np\n",
    "\n",
    "from gspx.qgsp import QMatrix\n",
    "\n",
    "nvertices = 20\n",
    "ntaps = 8"
   ]
  },
  {
   "cell_type": "code",
   "execution_count": null,
   "metadata": {},
   "outputs": [],
   "source": [
    "A1, coords = make_sensor(N=nvertices, seed=2)\n",
    "Ai, _ = make_sensor(N=nvertices, seed=3)\n",
    "Aj, _ = make_sensor(N=nvertices, seed=4)\n",
    "Ak, _ = make_sensor(N=nvertices, seed=5)\n",
    "\n",
    "A = QMatrix([A1, Ai, Aj, Ak])"
   ]
  },
  {
   "cell_type": "code",
   "execution_count": null,
   "metadata": {},
   "outputs": [],
   "source": [
    "plot_graph(\n",
    "    A.abs(), coords=coords,\n",
    "    figsize=(8, 4), colormap='viridis',\n",
    "    node_size=120)"
   ]
  },
  {
   "cell_type": "code",
   "execution_count": null,
   "metadata": {},
   "outputs": [],
   "source": [
    "A.visualize(dpi=100)"
   ]
  },
  {
   "cell_type": "code",
   "execution_count": null,
   "metadata": {},
   "outputs": [],
   "source": [
    "from gspx.qgsp import QGFT\n",
    "\n",
    "qgft = QGFT()\n",
    "qgft.fit(A)\n",
    "\n",
    "plt.plot(np.real(qgft.eigc), np.imag(qgft.eigc), 'bo')\n",
    "plt.show()"
   ]
  },
  {
   "cell_type": "code",
   "execution_count": null,
   "metadata": {},
   "outputs": [],
   "source": [
    "### Are we confident that A @ V = V * lambda here?\n",
    "\n",
    "# (A * qgft.Vq[:, 0])[:4]\n",
    "# (qgft.Vq[:, 0] * eigq[0])[:4]"
   ]
  },
  {
   "cell_type": "code",
   "execution_count": null,
   "metadata": {},
   "outputs": [],
   "source": [
    "X_shifted = A * qgft.Vq\n",
    "diff = X_shifted - qgft.Vq\n",
    "\n",
    "diff_norm_squared = (diff.transpose().conjugate() * diff).diag()\n",
    "# This does not work! Quaternion mutiplication is not commutative and\n",
    "# this order is the wrogn one.\n",
    "# diff_norm_squared = (diff * diff.transpose().conjugate()).diag()\n",
    "diff_norm_squared"
   ]
  },
  {
   "cell_type": "code",
   "execution_count": null,
   "metadata": {},
   "outputs": [],
   "source": [
    "tv = np.sqrt(np.abs(diff_norm_squared).astype(float))\n",
    "\n",
    "plt.scatter(np.real(qgft.eigc), np.imag(qgft.eigc), c=tv)\n",
    "plt.colorbar()\n",
    "plt.title(\"Total Variation of eigenvectors for each eigenvalue\")\n",
    "plt.xlabel(\"Real(eigvals)\")\n",
    "plt.ylabel(\"Imag(eigvals)\")\n",
    "plt.show()"
   ]
  },
  {
   "cell_type": "code",
   "execution_count": null,
   "metadata": {},
   "outputs": [],
   "source": [
    "idx_freq = np.argsort(tv)\n",
    "\n",
    "plt.figure()\n",
    "plt.scatter(np.arange(len(idx_freq)), tv[idx_freq], c=tv[idx_freq])\n",
    "plt.xlabel(\"Index of eigenvalues\")\n",
    "plt.ylabel(\"TV\")\n",
    "plt.title(\"Sorting eigenvalues by TV\")\n",
    "plt.colorbar()\n",
    "plt.show()"
   ]
  },
  {
   "cell_type": "code",
   "execution_count": null,
   "metadata": {},
   "outputs": [],
   "source": [
    "h_ideal = np.zeros(len(idx_freq))\n",
    "\n",
    "# Bandwith of 20% the frequency support\n",
    "bandwidth = int(len(idx_freq) / 5)\n",
    "h_ideal[idx_freq[:bandwidth]] = 1\n",
    "\n",
    "plt.figure()\n",
    "plt.scatter(np.arange(len(idx_freq)), h_ideal[idx_freq], c=tv[idx_freq])\n",
    "plt.xlabel(\"Index of eigenvalues\")\n",
    "plt.ylabel(\"Frequency response\")\n",
    "\n",
    "cbar = plt.colorbar()\n",
    "cbar.set_label(\"TV of respective eigenvector\", rotation=90)\n",
    "plt.title(\"Ideal LPF\")\n",
    "plt.show()"
   ]
  },
  {
   "cell_type": "code",
   "execution_count": null,
   "metadata": {},
   "outputs": [],
   "source": [
    "# Heat kernel in all 4 quaternion dimensions\n",
    "k = 0.2\n",
    "ss = np.exp(-k * np.arange(len(idx_freq)))\n",
    "\n",
    "ss = QuaternionSignal.from_rectangular(\n",
    "    np.hstack([ss[:, np.newaxis]] * 4)\n",
    ")\n",
    "ss.visualize()"
   ]
  },
  {
   "cell_type": "code",
   "execution_count": null,
   "metadata": {},
   "outputs": [],
   "source": [
    "s = qgft.inverse_transform(ss)\n",
    "\n",
    "obj = QuaternionSignal()\n",
    "obj.samples = s.samples.ravel()\n",
    "node_color = [tuple(rgba) for rgba in obj.to_rgba()]\n",
    "\n",
    "plot_graph(\n",
    "    A.abs(), coords=coords, colors=node_color,\n",
    "    figsize=(8, 4), colormap='viridis',\n",
    "    node_size=120)"
   ]
  },
  {
   "cell_type": "code",
   "execution_count": null,
   "metadata": {},
   "outputs": [],
   "source": [
    "rnd = np.random.RandomState(seed=42)\n",
    "err_amplitude = 0.2\n",
    "nn = rnd.uniform(low=-err_amplitude, high=err_amplitude, size=len(ss))\n",
    "\n",
    "sn = qgft.inverse_transform(ss + nn)\n",
    "sn.samples = sn.samples.ravel()"
   ]
  },
  {
   "cell_type": "code",
   "execution_count": null,
   "metadata": {},
   "outputs": [],
   "source": [
    "ss.visualize()"
   ]
  },
  {
   "cell_type": "code",
   "execution_count": null,
   "metadata": {},
   "outputs": [],
   "source": [
    "(ss + nn).visualize()"
   ]
  },
  {
   "cell_type": "code",
   "execution_count": null,
   "metadata": {},
   "outputs": [],
   "source": [
    "sn.visualize()"
   ]
  },
  {
   "cell_type": "markdown",
   "metadata": {},
   "source": [
    "# Adaptive filtering with QLMS"
   ]
  },
  {
   "cell_type": "code",
   "execution_count": null,
   "metadata": {},
   "outputs": [],
   "source": [
    "MAX_ITR = 1000\n",
    "deg = 7\n",
    "\n",
    "eig_vander = np.vander(qgft.eigc, N=deg, increasing=True)\n",
    "eig_vander.shape"
   ]
  },
  {
   "cell_type": "code",
   "execution_count": null,
   "metadata": {},
   "outputs": [],
   "source": [
    "idx_freq"
   ]
  },
  {
   "cell_type": "code",
   "execution_count": null,
   "metadata": {},
   "outputs": [],
   "source": [
    "\n",
    "theta_ideal = h_ideal[:, np.newaxis]\n",
    "print(eig_vander.shape, theta_ideal.shape)\n",
    "\n",
    "learning_rates = [0.001, 0.01, 0.1, 0.3]\n",
    "\n",
    "lms = LMS(max_iter=MAX_ITR, alpha=learning_rates, scale=True)\n",
    "lms.fit(eig_vander, y=theta_ideal)"
   ]
  }
 ],
 "metadata": {
  "interpreter": {
   "hash": "50f9ca3495cd5f957bb3dec367da9f5b4557b82d21010cefe2ba6d71fda74394"
  },
  "kernelspec": {
   "display_name": "Python 3.7.12 ('gspx')",
   "language": "python",
   "name": "python3"
  },
  "language_info": {
   "codemirror_mode": {
    "name": "ipython",
    "version": 3
   },
   "file_extension": ".py",
   "mimetype": "text/x-python",
   "name": "python",
   "nbconvert_exporter": "python",
   "pygments_lexer": "ipython3",
   "version": "3.7.12"
  },
  "orig_nbformat": 4
 },
 "nbformat": 4,
 "nbformat_minor": 2
}
