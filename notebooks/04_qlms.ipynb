{
 "cells": [
  {
   "cell_type": "markdown",
   "metadata": {},
   "source": [
    "## q-QLMS"
   ]
  },
  {
   "cell_type": "code",
   "execution_count": null,
   "metadata": {},
   "outputs": [],
   "source": [
    "# If gspx is not installed, we add it to the path\n",
    "import os, sys\n",
    "gdir = os.path.dirname(os.getcwd())  # parent folder\n",
    "sys.path.insert(0, gdir)"
   ]
  },
  {
   "cell_type": "code",
   "execution_count": null,
   "metadata": {},
   "outputs": [],
   "source": [
    "import matplotlib.pyplot as plt\n",
    "from gspx.utils.graph import make_sensor\n",
    "from gspx.utils.display import plot_graph\n",
    "from gspx.signals import QuaternionSignal\n",
    "import numpy as np\n",
    "\n",
    "from gspx.qgsp import QMatrix"
   ]
  },
  {
   "cell_type": "code",
   "execution_count": null,
   "metadata": {},
   "outputs": [],
   "source": [
    "A1, coords = make_sensor(N=8, seed=2)\n",
    "Ai, _ = make_sensor(N=8, seed=3)\n",
    "Aj, _ = make_sensor(N=8, seed=4)\n",
    "Ak, _ = make_sensor(N=8, seed=5)\n",
    "\n",
    "A = QMatrix([A1, Ai, Aj, Ak])"
   ]
  },
  {
   "cell_type": "code",
   "execution_count": null,
   "metadata": {},
   "outputs": [],
   "source": [
    "plot_graph(\n",
    "    A.abs(), coords=coords,\n",
    "    figsize=(8, 4), colormap='viridis',\n",
    "    node_size=120)"
   ]
  },
  {
   "cell_type": "code",
   "execution_count": null,
   "metadata": {},
   "outputs": [],
   "source": [
    "A.visualize()"
   ]
  },
  {
   "cell_type": "code",
   "execution_count": null,
   "metadata": {},
   "outputs": [],
   "source": [
    "eigq, Vq = A.eigendecompose()\n",
    "new = QuaternionSignal()\n",
    "new.samples = eigq\n",
    "eigc = new.to_array()[:, 0] + 1j * new.to_array()[:, 1]\n",
    "\n",
    "plt.plot(np.real(eigc), np.imag(eigc), 'bo')\n",
    "plt.show()"
   ]
  },
  {
   "cell_type": "markdown",
   "metadata": {},
   "source": [
    "### Are we confident that A @ V = V * lambda here?"
   ]
  },
  {
   "cell_type": "code",
   "execution_count": null,
   "metadata": {},
   "outputs": [],
   "source": [
    "(A * Vq[:, 0])[:4]"
   ]
  },
  {
   "cell_type": "code",
   "execution_count": null,
   "metadata": {},
   "outputs": [],
   "source": [
    "(Vq[:, 0] * eigq[0])[:4]"
   ]
  },
  {
   "cell_type": "code",
   "execution_count": null,
   "metadata": {},
   "outputs": [],
   "source": [
    "X_shifted = A * Vq\n",
    "diff = X_shifted - Vq\n",
    "diff_norm_squared = (diff.conjugate().transpose() * diff).diag()"
   ]
  },
  {
   "cell_type": "code",
   "execution_count": null,
   "metadata": {},
   "outputs": [],
   "source": [
    "Vq.shape"
   ]
  },
  {
   "cell_type": "code",
   "execution_count": null,
   "metadata": {},
   "outputs": [],
   "source": [
    "diff_norm_squared"
   ]
  },
  {
   "cell_type": "code",
   "execution_count": null,
   "metadata": {},
   "outputs": [],
   "source": [
    "tv = np.sqrt(np.abs(diff_norm_squared).astype(float))\n",
    "\n",
    "plt.scatter(np.real(eigc), np.imag(eigc), c=tv)\n",
    "plt.colorbar()\n",
    "plt.title(\"Total Variation of eigenvectors for each eigenvalue\")\n",
    "plt.xlabel(\"Real(eigvals)\")\n",
    "plt.ylabel(\"Imag(eigvals)\")\n",
    "plt.show()"
   ]
  },
  {
   "cell_type": "code",
   "execution_count": null,
   "metadata": {},
   "outputs": [],
   "source": [
    "idx_freq = np.argsort(tv)\n",
    "\n",
    "plt.figure()\n",
    "plt.scatter(np.arange(len(idx_freq)), tv[idx_freq], c=tv[idx_freq])\n",
    "plt.xlabel(\"Index of eigenvalues\")\n",
    "plt.ylabel(\"TV\")\n",
    "plt.title(\"Sorting eigenvalues by TV\")\n",
    "plt.colorbar()\n",
    "plt.show()"
   ]
  },
  {
   "cell_type": "code",
   "execution_count": null,
   "metadata": {},
   "outputs": [],
   "source": [
    "h_ideal = np.zeros(len(idx_freq))\n",
    "\n",
    "# Bandwith of 20% the frequency support\n",
    "bandwidth = int(len(idx_freq) / 5)\n",
    "h_ideal[idx_freq[:bandwidth]] = 1\n",
    "\n",
    "plt.figure()\n",
    "plt.scatter(np.arange(len(idx_freq)), h_ideal[idx_freq], c=tv[idx_freq])\n",
    "plt.xlabel(\"Index of eigenvalues\")\n",
    "plt.ylabel(\"Frequency response\")\n",
    "cbar = plt.colorbar()\n",
    "cbar.set_label(\"TV of respective eigenvector\", rotation=90)\n",
    "plt.title(\"Ideal LPF\")\n",
    "plt.show()"
   ]
  },
  {
   "cell_type": "code",
   "execution_count": null,
   "metadata": {},
   "outputs": [],
   "source": [
    "from gspx.utils.gsp import gft, igft\n",
    "\n",
    "# Heat kernel\n",
    "k = 0.2\n",
    "ss = np.exp(-k * np.arange(len(idx_freq)))"
   ]
  },
  {
   "cell_type": "code",
   "execution_count": null,
   "metadata": {},
   "outputs": [],
   "source": [
    "ss"
   ]
  },
  {
   "cell_type": "markdown",
   "metadata": {},
   "source": [
    "Eu quero calcular a inversa de Vq, a matriz de autovetores quaterniônicos, para poder gerar `ss = gft(A, s)`. Como fazer isso?\n",
    "\n",
    "Talvez: https://www.ime.unicamp.br/sites/default/files/pesquisa/relatorios/rp-1999-45.pdf"
   ]
  },
  {
   "cell_type": "code",
   "execution_count": null,
   "metadata": {},
   "outputs": [],
   "source": [
    "s = Vq.matrix @ ss[:, np.newaxis]\n",
    "\n",
    "obj = QuaternionSignal()\n",
    "obj.samples = s.ravel()\n",
    "node_color = [tuple(rgba) for rgba in obj.to_rgba()]\n",
    "\n",
    "plot_graph(\n",
    "    A.abs(), coords=coords, colors=s,\n",
    "    figsize=(8, 4), colormap='viridis',\n",
    "    node_size=120)"
   ]
  },
  {
   "cell_type": "code",
   "execution_count": null,
   "metadata": {},
   "outputs": [],
   "source": [
    "rnd = np.random.RandomState(seed=42)\n",
    "err_amplitude = 0.2\n",
    "nn = rnd.uniform(low=-err_amplitude, high=err_amplitude, size=len(ss))\n",
    "\n",
    "sn = igft(A, ss + nn)\n",
    "\n",
    "plt.figure()\n",
    "plt.plot(np.arange(len(idx_freq)), ss, 'b.', label=\"Signal\")\n",
    "plt.plot(np.arange(len(idx_freq)), ss + nn, 'r.', label=\"Signal + Noise\")\n",
    "plt.xlabel(\"Index of eigenvalues\")\n",
    "plt.title(\"Signal and noise spectrum\")\n",
    "plt.legend(loc=\"upper right\")\n",
    "plt.show()"
   ]
  }
 ],
 "metadata": {
  "interpreter": {
   "hash": "50f9ca3495cd5f957bb3dec367da9f5b4557b82d21010cefe2ba6d71fda74394"
  },
  "kernelspec": {
   "display_name": "Python 3.7.12 ('gspx')",
   "language": "python",
   "name": "python3"
  },
  "language_info": {
   "codemirror_mode": {
    "name": "ipython",
    "version": 3
   },
   "file_extension": ".py",
   "mimetype": "text/x-python",
   "name": "python",
   "nbconvert_exporter": "python",
   "pygments_lexer": "ipython3",
   "version": "3.7.11"
  },
  "orig_nbformat": 4
 },
 "nbformat": 4,
 "nbformat_minor": 2
}
