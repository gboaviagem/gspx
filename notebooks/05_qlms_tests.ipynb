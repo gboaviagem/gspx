{
 "cells": [
  {
   "cell_type": "code",
   "execution_count": null,
   "metadata": {},
   "outputs": [],
   "source": [
    "# If gspx is not installed, we add it to the path\n",
    "import os, sys\n",
    "gdir = os.path.dirname(os.getcwd())  # parent folder\n",
    "sys.path.insert(0, gdir)"
   ]
  },
  {
   "cell_type": "code",
   "execution_count": null,
   "metadata": {},
   "outputs": [],
   "source": [
    "import matplotlib.pyplot as plt\n",
    "import numpy as np\n",
    "\n",
    "from gspx.utils.graph import make_sensor\n",
    "from gspx.utils.display import plot_graph\n",
    "from gspx.signals import QuaternionSignal\n",
    "from gspx.qgsp import QMatrix\n",
    "from gspx.adaptive import QLMS\n",
    "from gspx.utils.quaternion_matrix import explode_quaternions"
   ]
  },
  {
   "cell_type": "code",
   "execution_count": null,
   "metadata": {},
   "outputs": [],
   "source": [
    "from sklearn.datasets import make_regression\n",
    "\n",
    "X, y, coef = make_regression(\n",
    "    n_samples=20000, n_features=4, n_informative=4, n_targets=1,\n",
    "    coef=True, random_state=42)"
   ]
  },
  {
   "cell_type": "code",
   "execution_count": null,
   "metadata": {},
   "outputs": [],
   "source": [
    "N = 6\n",
    "A1, coords = make_sensor(N, seed=2)\n",
    "Ai, _ = make_sensor(N, seed=3)\n",
    "Aj, _ = make_sensor(N, seed=4)\n",
    "Ak, _ = make_sensor(N, seed=5)\n",
    "\n",
    "X = QMatrix([A1, Ai, Aj, Ak])"
   ]
  },
  {
   "cell_type": "code",
   "execution_count": null,
   "metadata": {},
   "outputs": [],
   "source": [
    "self = QLMS()\n",
    "\n",
    "m, d = X.shape\n",
    "X_ = QLMS.add_intercept_term(X)\n",
    "X_, mu, std = QLMS.normal_scaling(X_, ignore_first=True)\n",
    "\n",
    "self.mu_ = mu\n",
    "self.std_ = std"
   ]
  },
  {
   "cell_type": "code",
   "execution_count": null,
   "metadata": {},
   "outputs": [],
   "source": [
    "theta = QLMS.initiate(length=d + 1, method='zeros')\n",
    "J = np.zeros(self.max_iter)\n",
    "\n",
    "err = X_ * theta - y"
   ]
  },
  {
   "cell_type": "code",
   "execution_count": null,
   "metadata": {},
   "outputs": [],
   "source": [
    "res = {}\n",
    "for lr in self.alpha:\n",
    "    theta = QLMS.initiate(length=d + 1, method='zeros')\n",
    "    J = np.zeros(self.max_iter)\n",
    "\n",
    "    for idx_iter in range(self.max_iter):\n",
    "        err = X_ @ theta - y\n",
    "\n",
    "        # Calculate the J term, which is the current MSE\n",
    "        J[idx_iter] = (0.5/m) * err.T @ err\n",
    "\n",
    "        # The gradient\n",
    "        grad = (1/m) * np.conjugate(X_).T @ err\n",
    "\n",
    "        # Here is the actual update\n",
    "        theta = theta - lr * grad\n",
    "    res[lr] = dict(result=theta, cost=J)\n",
    "\n",
    "self.res_ = res\n",
    "idx_lower_cost = np.argmin([v['cost'][-1] for k, v in res.items()])\n",
    "self.best_lr_ = self.alpha[idx_lower_cost]\n",
    "\n",
    "return self"
   ]
  }
 ],
 "metadata": {
  "kernelspec": {
   "display_name": "Python 3.7.12 ('gspx')",
   "language": "python",
   "name": "python3"
  },
  "language_info": {
   "codemirror_mode": {
    "name": "ipython",
    "version": 3
   },
   "file_extension": ".py",
   "mimetype": "text/x-python",
   "name": "python",
   "nbconvert_exporter": "python",
   "pygments_lexer": "ipython3",
   "version": "3.7.12"
  },
  "orig_nbformat": 4,
  "vscode": {
   "interpreter": {
    "hash": "50f9ca3495cd5f957bb3dec367da9f5b4557b82d21010cefe2ba6d71fda74394"
   }
  }
 },
 "nbformat": 4,
 "nbformat_minor": 2
}
