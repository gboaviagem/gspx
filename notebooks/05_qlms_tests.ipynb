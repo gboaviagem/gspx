{
 "cells": [
  {
   "cell_type": "code",
   "execution_count": null,
   "metadata": {},
   "outputs": [],
   "source": [
    "# If gspx is not installed, we add it to the path\n",
    "import os, sys\n",
    "gdir = os.path.dirname(os.getcwd())  # parent folder\n",
    "sys.path.insert(0, gdir)"
   ]
  },
  {
   "cell_type": "code",
   "execution_count": null,
   "metadata": {},
   "outputs": [],
   "source": [
    "from gspx.utils.display import plot_graph\n",
    "from gspx.datasets import WeatherGraphData, uk_weather"
   ]
  },
  {
   "cell_type": "code",
   "execution_count": null,
   "metadata": {},
   "outputs": [],
   "source": [
    "uk_data = WeatherGraphData()\n",
    "Ar, coords = uk_data.graph\n",
    "s = uk_data.signal"
   ]
  },
  {
   "cell_type": "code",
   "execution_count": null,
   "metadata": {},
   "outputs": [],
   "source": [
    "from gspx.qgsp import create_quaternion_weights\n",
    "df = uk_weather()\n",
    "\n",
    "Aq = create_quaternion_weights(\n",
    "    Ar, df, icols=['humidity'], jcols=['temp'],\n",
    "    kcols=['wind_speed'])"
   ]
  },
  {
   "cell_type": "code",
   "execution_count": null,
   "metadata": {},
   "outputs": [],
   "source": [
    "plot_graph(\n",
    "    Aq.abs(), coords=coords,\n",
    "    figsize=(4, 8), colormap='viridis',\n",
    "    node_size=40)"
   ]
  },
  {
   "cell_type": "code",
   "execution_count": null,
   "metadata": {},
   "outputs": [],
   "source": [
    "from gspx.qgsp import QGFT\n",
    "\n",
    "qgft = QGFT()\n",
    "qgft.fit(Aq)"
   ]
  },
  {
   "cell_type": "code",
   "execution_count": null,
   "metadata": {},
   "outputs": [],
   "source": [
    "import matplotlib.pyplot as plt\n",
    "import numpy as np\n",
    "\n",
    "plt.scatter(np.real(qgft.eigc), np.imag(qgft.eigc), c=qgft.tv_)\n",
    "plt.colorbar()\n",
    "plt.title(\"Total Variation of eigenvectors for each eigenvalue\")\n",
    "plt.xlabel(\"Real(eigvals)\")\n",
    "plt.ylabel(\"Imag(eigvals)\")\n",
    "plt.show()"
   ]
  },
  {
   "cell_type": "code",
   "execution_count": null,
   "metadata": {},
   "outputs": [],
   "source": [
    "h_ideal = np.zeros(len(idx_freq))\n",
    "\n",
    "# Bandwith of 20% the frequency support\n",
    "bandwidth = int(len(idx_freq) / 5)\n",
    "h_ideal[idx_freq[:bandwidth]] = 1\n",
    "\n",
    "plt.figure()\n",
    "plt.scatter(np.arange(len(idx_freq)), h_ideal[idx_freq], c=tv[idx_freq])\n",
    "plt.xlabel(\"Index of eigenvalues\")\n",
    "plt.ylabel(\"Frequency response\")\n",
    "\n",
    "cbar = plt.colorbar()\n",
    "cbar.set_label(\"TV of respective eigenvector\", rotation=90)\n",
    "plt.title(\"Ideal LPF\")\n",
    "plt.show()"
   ]
  }
 ],
 "metadata": {
  "kernelspec": {
   "display_name": "Python 3.7.12 ('gspx')",
   "language": "python",
   "name": "python3"
  },
  "language_info": {
   "codemirror_mode": {
    "name": "ipython",
    "version": 3
   },
   "file_extension": ".py",
   "mimetype": "text/x-python",
   "name": "python",
   "nbconvert_exporter": "python",
   "pygments_lexer": "ipython3",
   "version": "3.7.12"
  },
  "orig_nbformat": 4,
  "vscode": {
   "interpreter": {
    "hash": "50f9ca3495cd5f957bb3dec367da9f5b4557b82d21010cefe2ba6d71fda74394"
   }
  }
 },
 "nbformat": 4,
 "nbformat_minor": 2
}
