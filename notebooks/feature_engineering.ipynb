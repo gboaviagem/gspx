{
 "cells": [
  {
   "cell_type": "markdown",
   "metadata": {},
   "source": [
    "# Experiment on feature engineering via HPF on quaternion graph signal"
   ]
  },
  {
   "cell_type": "code",
   "execution_count": null,
   "metadata": {},
   "outputs": [],
   "source": [
    "# If gspx is not installed, we add it to the path\n",
    "import os, sys\n",
    "gdir = os.path.dirname(os.getcwd())  # parent folder\n",
    "sys.path.insert(0, gdir)"
   ]
  },
  {
   "cell_type": "code",
   "execution_count": null,
   "metadata": {},
   "outputs": [],
   "source": [
    "import numpy as np\n",
    "\n",
    "from gspx.utils.display import plot_graph\n",
    "from gspx.datasets import WeatherGraphData, uk_weather\n",
    "from gspx.signals import QuaternionSignal\n",
    "from gspx.qgsp import create_quaternion_weights, QGFT, QMatrix"
   ]
  },
  {
   "cell_type": "code",
   "execution_count": null,
   "metadata": {},
   "outputs": [],
   "source": [
    "from sklearn.datasets import make_classification\n",
    "\n",
    "n_features = 16\n",
    "X, y = make_classification(\n",
    "    n_samples=1000, n_features=n_features, n_informative=3, n_redundant=4,\n",
    "    n_classes=2, flip_y=0.4, class_sep=1.0, shuffle=True, random_state=44)"
   ]
  },
  {
   "cell_type": "code",
   "execution_count": null,
   "metadata": {},
   "outputs": [],
   "source": [
    "from sklearn.decomposition import PCA\n",
    "\n",
    "pca = PCA(\n",
    "    n_components=2, svd_solver='full', tol=0.0, random_state=42,\n",
    "    whiten=True)\n",
    "X_pca = pca.fit_transform(X)"
   ]
  },
  {
   "cell_type": "code",
   "execution_count": null,
   "metadata": {},
   "outputs": [],
   "source": [
    "import matplotlib.pyplot as plt\n",
    "\n",
    "plt.plot(X_pca[y == 0, 0], X_pca[y == 0, 1], 'b.', label='Class 0')\n",
    "plt.plot(X_pca[y == 1, 0], X_pca[y == 1, 1], 'r.', label='Class 1')\n",
    "plt.legend(loc=\"upper right\")\n",
    "plt.show()"
   ]
  },
  {
   "cell_type": "markdown",
   "metadata": {},
   "source": [
    "### Benchmark classification model"
   ]
  },
  {
   "cell_type": "code",
   "execution_count": null,
   "metadata": {},
   "outputs": [],
   "source": [
    "from sklearn.ensemble import RandomForestClassifier\n",
    "from sklearn.linear_model import LogisticRegression\n",
    "from sklearn.model_selection import train_test_split\n",
    "import pandas as pd\n",
    "\n",
    "from gspx.utils.utils import ks2\n",
    "\n",
    "df = pd.DataFrame(X, columns=[f\"V{i}\" for i in range(n_features)])\n",
    "df['TARGET'] = y\n",
    "\n",
    "train, test = train_test_split(df, test_size=0.3)\n",
    "\n",
    "clf = LogisticRegression()\n",
    "clf.fit(train.drop(columns=['TARGET']), y=train['TARGET'])\n",
    "y_train = clf.predict_proba(train.drop(columns=['TARGET']))[:, 1]\n",
    "y_test = clf.predict_proba(test.drop(columns=['TARGET']))[:, 1]\n",
    "\n",
    "print(f\"TRAIN: {ks2(train['TARGET'].to_numpy().ravel(), y_train)}\")\n",
    "print(f\"TEST: {ks2(test['TARGET'].to_numpy().ravel(), y_test)}\")"
   ]
  },
  {
   "cell_type": "code",
   "execution_count": null,
   "metadata": {},
   "outputs": [],
   "source": [
    "{df.columns[i]: c for i, c in enumerate(clf.coef_.ravel())}"
   ]
  },
  {
   "cell_type": "markdown",
   "metadata": {},
   "source": [
    "### QGFT on the nearest neighbors graph"
   ]
  },
  {
   "cell_type": "code",
   "execution_count": null,
   "metadata": {},
   "outputs": [],
   "source": [
    "import pandas as pd\n",
    "from gspx.utils.utils import best_features\n",
    "\n",
    "df = pd.DataFrame(X, columns=[f\"V{i}\" for i in range(n_features)])\n",
    "best_cols = best_features(df, y, nbest=4, thres=0.4)\n",
    "df_ = df[best_cols]\n",
    "df_.head()"
   ]
  },
  {
   "cell_type": "code",
   "execution_count": null,
   "metadata": {},
   "outputs": [],
   "source": [
    "from gspx.utils.graph import nearest_neighbors\n",
    "\n",
    "A = nearest_neighbors(\n",
    "    df_.values, n_neighbors=4, algorithm='ball_tree',\n",
    "    mode='distance').todense()\n",
    "A = A + A.T"
   ]
  },
  {
   "cell_type": "code",
   "execution_count": null,
   "metadata": {},
   "outputs": [],
   "source": [
    "from gspx.utils.graph import to_networkx\n",
    "import networkx as nx\n",
    "\n",
    "G = to_networkx(A)\n",
    "nx.is_connected(G)"
   ]
  },
  {
   "cell_type": "code",
   "execution_count": null,
   "metadata": {},
   "outputs": [],
   "source": [
    "len(np.where(A != 0)[0])"
   ]
  },
  {
   "cell_type": "code",
   "execution_count": null,
   "metadata": {},
   "outputs": [],
   "source": [
    "cols = df_.columns.tolist()\n",
    "Aq = create_quaternion_weights(\n",
    "    A, df_, icols=[cols[1]], jcols=[cols[2]],\n",
    "    kcols=[cols[3]], gauss_den=1.0)"
   ]
  },
  {
   "cell_type": "code",
   "execution_count": null,
   "metadata": {},
   "outputs": [],
   "source": [
    "plot_graph(\n",
    "    Aq.abs(), coords=X_pca,\n",
    "    figsize=(8, 8), colormap='viridis',\n",
    "    node_size=10)"
   ]
  },
  {
   "cell_type": "code",
   "execution_count": null,
   "metadata": {},
   "outputs": [],
   "source": [
    "qgft = QGFT()\n",
    "qgft.fit(Aq)"
   ]
  },
  {
   "cell_type": "markdown",
   "metadata": {},
   "source": [
    "### Feature based on high-pass quaternion filtering"
   ]
  },
  {
   "cell_type": "code",
   "execution_count": null,
   "metadata": {},
   "outputs": [],
   "source": [
    "s = QuaternionSignal.from_rectangular(df[best_cols].values)"
   ]
  },
  {
   "cell_type": "code",
   "execution_count": null,
   "metadata": {},
   "outputs": [],
   "source": [
    "ss = qgft.transform(s)"
   ]
  },
  {
   "cell_type": "code",
   "execution_count": null,
   "metadata": {},
   "outputs": [],
   "source": [
    "QuaternionSignal.show(ss, ordering=qgft.idx_freq)"
   ]
  },
  {
   "cell_type": "code",
   "execution_count": null,
   "metadata": {},
   "outputs": [],
   "source": []
  }
 ],
 "metadata": {
  "kernelspec": {
   "display_name": "Python 3.7.12 ('gspx')",
   "language": "python",
   "name": "python3"
  },
  "language_info": {
   "codemirror_mode": {
    "name": "ipython",
    "version": 3
   },
   "file_extension": ".py",
   "mimetype": "text/x-python",
   "name": "python",
   "nbconvert_exporter": "python",
   "pygments_lexer": "ipython3",
   "version": "3.7.12"
  },
  "orig_nbformat": 4,
  "vscode": {
   "interpreter": {
    "hash": "50f9ca3495cd5f957bb3dec367da9f5b4557b82d21010cefe2ba6d71fda74394"
   }
  }
 },
 "nbformat": 4,
 "nbformat_minor": 2
}
