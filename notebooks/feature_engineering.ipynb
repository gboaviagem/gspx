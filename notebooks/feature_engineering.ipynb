{
 "cells": [
  {
   "cell_type": "markdown",
   "metadata": {},
   "source": [
    "# Experiment on feature engineering via HPF on quaternion graph signal"
   ]
  },
  {
   "cell_type": "code",
   "execution_count": null,
   "metadata": {},
   "outputs": [],
   "source": [
    "# If gspx is not installed, we add it to the path\n",
    "import os, sys\n",
    "gdir = os.path.dirname(os.getcwd())  # parent folder\n",
    "sys.path.insert(0, gdir)"
   ]
  },
  {
   "cell_type": "code",
   "execution_count": null,
   "metadata": {},
   "outputs": [],
   "source": [
    "import numpy as np\n",
    "\n",
    "from gspx.utils.display import plot_graph\n",
    "from gspx.datasets import WeatherGraphData, uk_weather\n",
    "from gspx.signals import QuaternionSignal\n",
    "from gspx.qgsp import create_quaternion_weights, QGFT, QMatrix"
   ]
  },
  {
   "cell_type": "code",
   "execution_count": null,
   "metadata": {},
   "outputs": [],
   "source": [
    "from sklearn.datasets import make_classification\n",
    "\n",
    "n_features=16\n",
    "X, y = make_classification(\n",
    "    n_samples=10000, n_features=n_features, n_informative=6, n_redundant=10,\n",
    "    n_classes=2, flip_y=0.4, class_sep=1.0, shuffle=True, random_state=44)"
   ]
  },
  {
   "cell_type": "code",
   "execution_count": null,
   "metadata": {},
   "outputs": [],
   "source": [
    "from sklearn.ensemble import RandomForestClassifier\n",
    "from sklearn.linear_model import LogisticRegression\n",
    "from sklearn.model_selection import train_test_split\n",
    "from gspx.utils.utils import ks2\n",
    "\n",
    "df = pd.DataFrame(X, columns=[f\"V{i}\" for i in range(n_features)])\n",
    "df['TARGET'] = y\n",
    "\n",
    "train, test = train_test_split(df, test_size=0.4)\n",
    "\n",
    "# clf = RandomForestClassifier(\n",
    "#     n_estimators=100, criterion='gini', max_depth=None)\n",
    "clf = LogisticRegression()\n",
    "clf.fit(train.drop(columns=['TARGET']), y=train['TARGET'])\n",
    "y_train = clf.predict_proba(train.drop(columns=['TARGET']))[:, 1]\n",
    "y_test = clf.predict_proba(test.drop(columns=['TARGET']))[:, 1]\n",
    "\n",
    "print(f\"TRAIN: {ks2(train['TARGET'].to_numpy().ravel(), y_train)}\")\n",
    "print(f\"TEST: {ks2(test['TARGET'].to_numpy().ravel(), y_test)}\")"
   ]
  },
  {
   "cell_type": "code",
   "execution_count": null,
   "metadata": {},
   "outputs": [],
   "source": [
    "{df.columns[i]: c for i, c in enumerate(clf.coef_.ravel())}"
   ]
  },
  {
   "cell_type": "code",
   "execution_count": null,
   "metadata": {},
   "outputs": [],
   "source": [
    "import pandas as pd\n",
    "from gspx.utils.utils import best_features\n",
    "\n",
    "df = pd.DataFrame(X, columns=[f\"V{i}\" for i in range(n_features)])\n",
    "best_cols = best_features(df, y, nbest=4, thres=0.4)\n",
    "df[best_cols]"
   ]
  },
  {
   "cell_type": "code",
   "execution_count": null,
   "metadata": {},
   "outputs": [],
   "source": [
    "from sklearn.decomposition import PCA\n",
    "\n",
    "pca = PCA(\n",
    "    n_components=2, svd_solver='full', tol=0.0, random_state=42,\n",
    "    whiten=True)\n",
    "X_pca = pca.fit_transform(X)"
   ]
  },
  {
   "cell_type": "code",
   "execution_count": null,
   "metadata": {},
   "outputs": [],
   "source": [
    "import matplotlib.pyplot as plt\n",
    "\n",
    "plt.plot(X_pca[y == 0, 0], X_pca[y == 0, 1], 'b.', label='Class 0')\n",
    "plt.plot(X_pca[y == 1, 0], X_pca[y == 1, 1], 'r.', label='Class 1')\n",
    "plt.legend(loc=\"upper right\")\n",
    "plt.show()"
   ]
  },
  {
   "cell_type": "code",
   "execution_count": null,
   "metadata": {},
   "outputs": [],
   "source": []
  }
 ],
 "metadata": {
  "interpreter": {
   "hash": "ad7b04062b11f2f32ad39128cacc2a2bd2b4eeeabc2c58ebe8810cf900e3775b"
  },
  "kernelspec": {
   "display_name": "Python 3.7.11 ('gspx')",
   "language": "python",
   "name": "python3"
  },
  "language_info": {
   "codemirror_mode": {
    "name": "ipython",
    "version": 3
   },
   "file_extension": ".py",
   "mimetype": "text/x-python",
   "name": "python",
   "nbconvert_exporter": "python",
   "pygments_lexer": "ipython3",
   "version": "3.7.11"
  },
  "orig_nbformat": 4
 },
 "nbformat": 4,
 "nbformat_minor": 2
}
