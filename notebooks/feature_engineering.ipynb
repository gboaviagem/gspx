{
 "cells": [
  {
   "cell_type": "markdown",
   "metadata": {},
   "source": [
    "# Experiment on feature engineering via HPF on quaternion graph signal"
   ]
  },
  {
   "cell_type": "code",
   "execution_count": null,
   "metadata": {},
   "outputs": [],
   "source": [
    "# If gspx is not installed, we add it to the path\n",
    "import os, sys\n",
    "gdir = os.path.dirname(os.getcwd())  # parent folder\n",
    "sys.path.insert(0, gdir)"
   ]
  },
  {
   "cell_type": "code",
   "execution_count": null,
   "metadata": {},
   "outputs": [],
   "source": [
    "import numpy as np\n",
    "\n",
    "from gspx.utils.display import plot_graph\n",
    "from gspx.datasets import WeatherGraphData, uk_weather\n",
    "from gspx.signals import QuaternionSignal\n",
    "from gspx.qgsp import create_quaternion_weights, QGFT, QMatrix"
   ]
  },
  {
   "cell_type": "code",
   "execution_count": null,
   "metadata": {},
   "outputs": [],
   "source": [
    "from sklearn.datasets import make_classification\n",
    "\n",
    "n_features=16\n",
    "X, y = make_classification(\n",
    "    n_samples=1000, n_features=n_features, n_informative=6, n_redundant=10,\n",
    "    n_classes=2, flip_y=0.5, class_sep=1.0, shuffle=True, random_state=44)"
   ]
  },
  {
   "cell_type": "code",
   "execution_count": null,
   "metadata": {},
   "outputs": [],
   "source": [
    "import pandas as pd\n",
    "\n",
    "def ks2(y_true, y_score):\n",
    "    from scipy.stats import ks_2samp\n",
    "    y_pred0 = y_score[y_true == 0]\n",
    "    y_pred1 = y_score[y_true == 1]\n",
    "    ks, _ = ks_2samp(y_pred0, y_pred1)\n",
    "    return ks\n",
    "\n",
    "def best_features(df, k=4, thres=0.3):\n",
    "    arr = df.values\n",
    "    corr = df.corr() - np.eye(df.shape[1])\n",
    "\n",
    "    _, ncols = arr.shape\n",
    "    ks_list = []\n",
    "    for c in range(ncols):\n",
    "        ks_list.append(ks2(y, arr[:, c]))\n",
    "\n",
    "    corr['KS'] = ks_list\n",
    "    corr.sort_values(by='KS', ascending=False)\n",
    "    return corr\n",
    "\n",
    "df = pd.DataFrame(X, columns=[f\"V{i}\" for i in range(n_features)])\n",
    "cor = best_features(df, k=4)"
   ]
  },
  {
   "cell_type": "code",
   "execution_count": null,
   "metadata": {},
   "outputs": [],
   "source": [
    "pd.DataFrame(cor.abs().values > 0.8, columns=cor.columns).any(axis=1)"
   ]
  },
  {
   "cell_type": "code",
   "execution_count": null,
   "metadata": {},
   "outputs": [],
   "source": [
    "import pandas as pd\n",
    "\n",
    "cor.abs().style.highlight_between(\n",
    "    left=0.65, right=0.99,\n",
    "    props='font-weight:bold;color:#e83e8c')"
   ]
  },
  {
   "cell_type": "code",
   "execution_count": null,
   "metadata": {},
   "outputs": [],
   "source": [
    "from sklearn.decomposition import PCA\n",
    "\n",
    "pca = PCA(\n",
    "    n_components=2, svd_solver='full', tol=0.0, random_state=42,\n",
    "    whiten=True)\n",
    "X_pca = pca.fit_transform(X)"
   ]
  },
  {
   "cell_type": "code",
   "execution_count": null,
   "metadata": {},
   "outputs": [],
   "source": [
    "import matplotlib.pyplot as plt\n",
    "\n",
    "plt.plot(X_pca[y == 0, 0], X_pca[y == 0, 1], 'b.', label='Class 0')\n",
    "plt.plot(X_pca[y == 1, 0], X_pca[y == 1, 1], 'r.', label='Class 1')\n",
    "plt.legend(loc=\"upper right\")\n",
    "plt.show()"
   ]
  },
  {
   "cell_type": "code",
   "execution_count": null,
   "metadata": {},
   "outputs": [],
   "source": [
    "from sklearn.ensemble import RandomForestClassifier\n",
    "\n",
    "clf = RandomForestClassifier(\n",
    "    n_estimators=100, criterion='gini', max_depth=None,\n",
    "    min_samples_split=2, min_samples_leaf=1,\n",
    "    min_weight_fraction_leaf=0.0, max_features='sqrt', max_leaf_nodes=None, min_impurity_decrease=0.0, bootstrap=True, oob_score=False, n_jobs=None, random_state=None, verbose=0, warm_start=False, class_weight=None, ccp_alpha=0.0, max_samples=None)[source]"
   ]
  }
 ],
 "metadata": {
  "interpreter": {
   "hash": "ad7b04062b11f2f32ad39128cacc2a2bd2b4eeeabc2c58ebe8810cf900e3775b"
  },
  "kernelspec": {
   "display_name": "Python 3.7.11 ('gspx')",
   "language": "python",
   "name": "python3"
  },
  "language_info": {
   "codemirror_mode": {
    "name": "ipython",
    "version": 3
   },
   "file_extension": ".py",
   "mimetype": "text/x-python",
   "name": "python",
   "nbconvert_exporter": "python",
   "pygments_lexer": "ipython3",
   "version": "3.7.11"
  },
  "orig_nbformat": 4
 },
 "nbformat": 4,
 "nbformat_minor": 2
}
