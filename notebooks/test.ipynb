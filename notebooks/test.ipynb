{
 "cells": [
  {
   "cell_type": "code",
   "execution_count": 1,
   "metadata": {},
   "outputs": [],
   "source": [
    "# If gspx is not installed, we add it to the path\n",
    "import os, sys\n",
    "gdir = os.path.dirname(os.getcwd())  # parent folder\n",
    "sys.path.insert(0, gdir)"
   ]
  },
  {
   "cell_type": "code",
   "execution_count": 28,
   "metadata": {},
   "outputs": [],
   "source": [
    "from gspx.utils.display import plot_graph\n",
    "from gspx.qgsp import QMatrix\n",
    "from gspx.utils.quaternion_matrix import explode_quaternions, implode_quaternions\n",
    "import numpy as np\n",
    "\n",
    "coords = np.array([\n",
    "    [0, 1],\n",
    "    [-1, 0],\n",
    "    [0, -1],\n",
    "    [1, 0],\n",
    "    [0, 0],\n",
    "])"
   ]
  },
  {
   "cell_type": "code",
   "execution_count": 3,
   "metadata": {},
   "outputs": [],
   "source": [
    "M = np.zeros((5, 5, 4))\n",
    "\n",
    "idx = np.array([\n",
    "    [0, 4],\n",
    "    [1, 4],\n",
    "    [2, 4],\n",
    "    [3, 4],\n",
    "    [3, 0]\n",
    "])"
   ]
  },
  {
   "cell_type": "code",
   "execution_count": 4,
   "metadata": {},
   "outputs": [],
   "source": [
    "Aq = QMatrix.from_matrix(implode_quaternions(M))"
   ]
  },
  {
   "cell_type": "code",
   "execution_count": 25,
   "metadata": {},
   "outputs": [],
   "source": [
    "# from pyquaternion import Quaternion\n",
    "# from tqdm import tqdm\n",
    "\n",
    "# Ne = 5\n",
    "\n",
    "# for i_ in tqdm(range(1000)):\n",
    "#     rnd = np.random.RandomState(seed=i_)\n",
    "#     entries = rnd.randint(10, size=(Ne, 4))\n",
    "\n",
    "#     for n, i in enumerate(idx):\n",
    "#         Aq.matrix[i[0], i[1]] = Quaternion(entries[n])\n",
    "\n",
    "#     Aq = Aq + Aq.conjugate().transpose()\n",
    "\n",
    "#     eigq, Vq = Aq.eigendecompose(hermitian_gso=True)\n",
    "\n",
    "#     diff = (\n",
    "#         np.eye(5) -\n",
    "#         np.round((Vq * Vq.conjugate().transpose()).abs(), decimals=5)).sum()\n",
    "#     if diff > 0:\n",
    "#         print(i_)\n",
    "#         break"
   ]
  },
  {
   "cell_type": "code",
   "execution_count": 36,
   "metadata": {},
   "outputs": [],
   "source": [
    "from pyquaternion import Quaternion\n",
    "from tqdm import tqdm\n",
    "\n",
    "Ne = 5\n",
    "\n",
    "rnd = np.random.RandomState(seed=42)\n",
    "entries = rnd.randint(10, size=(Ne, 4))\n",
    "\n",
    "for n, i in enumerate(idx):\n",
    "    Aq.matrix[i[0], i[1]] = Quaternion(entries[n])\n",
    "\n",
    "Aq = Aq + Aq.conjugate().transpose()\n",
    "\n",
    "eigq, Vq = Aq.eigendecompose(hermitian_gso=True)"
   ]
  },
  {
   "cell_type": "code",
   "execution_count": null,
   "metadata": {},
   "outputs": [],
   "source": [
    "import networkx as nx\n",
    "import matplotlib.pyplot as plt\n",
    "\n",
    "A_ = Aq.abs()\n",
    "xi, yi = np.where(A_)\n",
    "edgelist = [\n",
    "    (xi[n], yi[n], {'weight': A_[xi[n], yi[n]]})\n",
    "    for n in range(len(xi))\n",
    "]\n",
    "\n",
    "g = nx.DiGraph()\n",
    "g.add_edges_from(edgelist)\n",
    "plot_graph(\n",
    "    g, coords, figsize=(3, 3), node_size=60,\n",
    "    edge_color=(0.8, 0.8, 0.8, 0.6))\n",
    "fig = plt.gcf()\n",
    "plt.savefig('/home/gbr/gspx/degenerate_qgft_graph.pdf', dpi=300)"
   ]
  },
  {
   "cell_type": "code",
   "execution_count": 32,
   "metadata": {},
   "outputs": [],
   "source": [
    "from gspx.utils.quaternion_matrix import explode_quaternions, implode_quaternions\n",
    "arr = explode_quaternions(Vq.matrix)\n",
    "arrq = implode_quaternions(np.round(arr, decimals=2))"
   ]
  },
  {
   "cell_type": "code",
   "execution_count": 34,
   "metadata": {},
   "outputs": [
    {
     "name": "stdout",
     "output_type": "stream",
     "text": [
      "['0.400 +0.000i +0.000j +0.000k', '0.610 +0.000i +0.060j +0.040k', '0.000 +0.000i +0.000j +0.000k']\n",
      "['0.300 -0.100i -0.090j -0.100k', '-0.130 +0.160i +0.140j +0.170k', '-0.300 +0.060i -0.160j +0.610k']\n",
      "['0.290 -0.100i -0.090j -0.100k', '-0.130 +0.160i +0.130j +0.170k', '0.300 -0.060i +0.170j -0.630k']\n",
      "['0.190 -0.210i -0.190j -0.200k', '-0.440 -0.220i -0.260j -0.270k', '0.000 +0.000i +0.000j +0.000k']\n",
      "['0.000 +0.390i +0.380j +0.400k', '-0.140 -0.100i -0.110j -0.130k', '0.000 +0.000i +0.000j +0.000k']\n"
     ]
    }
   ],
   "source": [
    "for row in arrq:\n",
    "    print([str(q) for q in row[:3]])"
   ]
  },
  {
   "cell_type": "code",
   "execution_count": 35,
   "metadata": {},
   "outputs": [
    {
     "name": "stdout",
     "output_type": "stream",
     "text": [
      "['-0.410 +0.000i -0.270j -0.120k', '0.460 +0.000i -0.030j -0.040k']\n",
      "['0.150 +0.090i +0.290j +0.320k', '0.280 +0.050i +0.040j +0.020k']\n",
      "['0.150 +0.090i +0.280j +0.310k', '0.280 +0.050i +0.040j +0.020k']\n",
      "['0.140 -0.160i -0.210j -0.410k', '0.400 +0.150i +0.140j +0.100k']\n",
      "['0.240 -0.030i +0.100j -0.010k', '0.430 -0.240i -0.300j -0.280k']\n"
     ]
    }
   ],
   "source": [
    "for row in arrq:\n",
    "    print([str(q) for q in row[3:]])"
   ]
  },
  {
   "cell_type": "code",
   "execution_count": 37,
   "metadata": {},
   "outputs": [
    {
     "data": {
      "text/plain": [
       "Quaternion-valued array of shape (5, 5):\n",
       "[[Quaternion(2.750111914327348e-05, -3.652744881739445e-17, -0.3867127945711346, -0.08422602702135787)\n",
       "  Quaternion(0.11217360841987631, -0.07496143370182133, -0.31302078602278893, 0.0358615930150588)\n",
       "  Quaternion(0.10760612672799094, -0.07826304730624473, -0.3045356774260821, 0.03649344919376647)\n",
       "  Quaternion(0.22864208975569894, -0.15276700000967652, -0.2302823128844718, 0.16022951397056762)\n",
       "  Quaternion(-0.4609411154114941, 0.3111787261287824, 0.08534744781571701, -0.3784303826186013)]\n",
       " [Quaternion(-0.612331586945051, -1.1102230246251565e-16, 0.03264649445652912, 0.04050276139200756)\n",
       "  Quaternion(0.12499110760423511, 0.17089154994669803, 0.14606569507976747, 0.16625651162596672)\n",
       "  Quaternion(0.12002469207223962, 0.1693947716238076, 0.13896072547528865, 0.16385080560865903)\n",
       "  Quaternion(0.4557140555100803, -0.22756184618260825, -0.2343839516571944, -0.25632101178126765)\n",
       "  Quaternion(0.14303579851336415, -0.10810775600200397, -0.10484571914694228, -0.1266799826901017)]\n",
       " [Quaternion(-7.322906614572351e-17, 3.0307823943923794e-17, 5.562935641071104e-17, -5.987919930691913e-17)\n",
       "  Quaternion(0.1442842818955954, -0.03275174878459173, -0.6309594852894749, 0.2599700320244827)\n",
       "  Quaternion(-0.14110369572587703, 0.043644831636690785, 0.6471884614582643, -0.26785639884281764)\n",
       "  Quaternion(1.3130422031948513e-16, -9.723018096070934e-17, -6.691122572771631e-17, 9.738339617330509e-17)\n",
       "  Quaternion(1.0920847579006378e-16, -9.880685824294383e-17, -1.9412610327355407e-16, -2.7480539548411207e-18)]\n",
       " [Quaternion(-0.5042407803805291, -5.551115123125783e-17, -0.00772709582657778, 0.0001606053167477208)\n",
       "  Quaternion(0.3591396027017792, -0.17529332972113779, -0.1696410536284192, -0.16875848467154964)\n",
       "  Quaternion(0.3521125997737624, -0.17494699222985405, -0.1635554522296413, -0.15847027304298356)\n",
       "  Quaternion(-0.1012175702600825, 0.29936787108146534, 0.2806047198613476, 0.27776282728532126)\n",
       "  Quaternion(0.24119513513937912, 0.05025469934423277, 0.056504502486119934, 0.05110121015572718)]\n",
       " [Quaternion(0.4566600931531441, 0.0, -0.043560828920396776, 0.030797168407665484)\n",
       "  Quaternion(0.272240343965566, -0.0414927872960834, -0.08341869543105077, -0.037149836218683424)\n",
       "  Quaternion(0.26576251590510575, -0.04243820346185133, -0.08156431662901281, -0.03182611709607325)\n",
       "  Quaternion(0.36800034346727034, -0.1288002587217786, -0.19944853646832134, -0.13429375149143102)\n",
       "  Quaternion(0.4804164138389283, 0.2019080663427264, 0.21910784362867233, 0.30812434536599165)]]"
      ]
     },
     "execution_count": 37,
     "metadata": {},
     "output_type": "execute_result"
    }
   ],
   "source": [
    "Vq.inv()"
   ]
  },
  {
   "cell_type": "code",
   "execution_count": null,
   "metadata": {},
   "outputs": [],
   "source": [
    "print(Aq)"
   ]
  },
  {
   "cell_type": "code",
   "execution_count": null,
   "metadata": {},
   "outputs": [],
   "source": [
    "print(Aq.complex_adjoint)"
   ]
  },
  {
   "cell_type": "code",
   "execution_count": null,
   "metadata": {},
   "outputs": [],
   "source": []
  }
 ],
 "metadata": {
  "kernelspec": {
   "display_name": "Python 3.7.12 ('gspx')",
   "language": "python",
   "name": "python3"
  },
  "language_info": {
   "codemirror_mode": {
    "name": "ipython",
    "version": 3
   },
   "file_extension": ".py",
   "mimetype": "text/x-python",
   "name": "python",
   "nbconvert_exporter": "python",
   "pygments_lexer": "ipython3",
   "version": "3.7.12"
  },
  "orig_nbformat": 4,
  "vscode": {
   "interpreter": {
    "hash": "50f9ca3495cd5f957bb3dec367da9f5b4557b82d21010cefe2ba6d71fda74394"
   }
  }
 },
 "nbformat": 4,
 "nbformat_minor": 2
}
