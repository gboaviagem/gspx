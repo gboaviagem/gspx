{
 "cells": [
  {
   "cell_type": "code",
   "execution_count": null,
   "metadata": {},
   "outputs": [],
   "source": [
    "# If gspx is not installed, we add it to the path\n",
    "import os, sys\n",
    "gdir = os.path.dirname(os.getcwd())  # parent folder\n",
    "sys.path.insert(0, gdir)"
   ]
  },
  {
   "cell_type": "code",
   "execution_count": null,
   "metadata": {},
   "outputs": [],
   "source": [
    "from gspx.utils.display import plot_graph\n",
    "from gspx.qgsp import QMatrix\n",
    "from gspx.utils.quaternion_matrix import explode_quaternions, implode_quaternions\n",
    "import numpy as np\n",
    "\n",
    "coords = np.array([\n",
    "    [0, 1],\n",
    "    [-1, 0],\n",
    "    [0, -1],\n",
    "    [1, 0],\n",
    "    [0, 0],\n",
    "])"
   ]
  },
  {
   "cell_type": "code",
   "execution_count": null,
   "metadata": {},
   "outputs": [],
   "source": [
    "M = np.zeros((5, 5, 4))\n",
    "\n",
    "idx = np.array([\n",
    "    [0, 4],\n",
    "    [1, 4],\n",
    "    [2, 4],\n",
    "    [3, 4],\n",
    "    [3, 0]\n",
    "])"
   ]
  },
  {
   "cell_type": "code",
   "execution_count": null,
   "metadata": {},
   "outputs": [],
   "source": [
    "Aq = QMatrix.from_matrix(implode_quaternions(M))"
   ]
  },
  {
   "cell_type": "code",
   "execution_count": null,
   "metadata": {},
   "outputs": [],
   "source": [
    "# from pyquaternion import Quaternion\n",
    "# from tqdm import tqdm\n",
    "\n",
    "# Ne = 5\n",
    "\n",
    "# for i_ in tqdm(range(1000)):\n",
    "#     rnd = np.random.RandomState(seed=i_)\n",
    "#     entries = rnd.randint(10, size=(Ne, 4))\n",
    "\n",
    "#     for n, i in enumerate(idx):\n",
    "#         Aq.matrix[i[0], i[1]] = Quaternion(entries[n])\n",
    "\n",
    "#     Aq = Aq + Aq.conjugate().transpose()\n",
    "\n",
    "#     eigq, Vq = Aq.eigendecompose(hermitian_gso=True)\n",
    "\n",
    "#     diff = (\n",
    "#         np.eye(5) -\n",
    "#         np.round((Vq * Vq.conjugate().transpose()).abs(), decimals=5)).sum()\n",
    "#     if diff > 0:\n",
    "#         print(i_)\n",
    "#         break"
   ]
  },
  {
   "cell_type": "code",
   "execution_count": null,
   "metadata": {},
   "outputs": [],
   "source": [
    "from pyquaternion import Quaternion\n",
    "from tqdm import tqdm\n",
    "\n",
    "Ne = 5\n",
    "\n",
    "rnd = np.random.RandomState(seed=42)\n",
    "entries = rnd.randint(10, size=(Ne, 4))\n",
    "\n",
    "for n, i in enumerate(idx):\n",
    "    Aq.matrix[i[0], i[1]] = Quaternion(entries[n])\n",
    "\n",
    "Aq = Aq + Aq.conjugate().transpose()\n",
    "\n",
    "eigq, Vq = Aq.eigendecompose(hermitian_gso=True)"
   ]
  },
  {
   "cell_type": "code",
   "execution_count": null,
   "metadata": {},
   "outputs": [],
   "source": [
    "import networkx as nx\n",
    "import matplotlib.pyplot as plt\n",
    "\n",
    "A_ = Aq.abs()\n",
    "xi, yi = np.where(A_)\n",
    "edgelist = [\n",
    "    (xi[n], yi[n], {'weight': A_[xi[n], yi[n]]})\n",
    "    for n in range(len(xi))\n",
    "]\n",
    "\n",
    "g = nx.DiGraph()\n",
    "g.add_edges_from(edgelist)\n",
    "plot_graph(\n",
    "    g, coords, figsize=(3, 3), node_size=60,\n",
    "    edge_color=(0.8, 0.8, 0.8, 0.6))\n",
    "fig = plt.gcf()\n",
    "plt.savefig('/home/gbr/gspx/degenerate_qgft_graph.pdf', dpi=300)"
   ]
  },
  {
   "cell_type": "code",
   "execution_count": null,
   "metadata": {},
   "outputs": [],
   "source": [
    "from gspx.utils.quaternion_matrix import explode_quaternions, implode_quaternions\n",
    "arr = explode_quaternions(Vq.matrix)\n",
    "arrq = implode_quaternions(np.round(arr, decimals=2))"
   ]
  },
  {
   "cell_type": "code",
   "execution_count": null,
   "metadata": {},
   "outputs": [],
   "source": [
    "for row in arrq:\n",
    "    print([str(q) for q in row[:3]])"
   ]
  },
  {
   "cell_type": "code",
   "execution_count": null,
   "metadata": {},
   "outputs": [],
   "source": [
    "for row in arrq:\n",
    "    print([str(q) for q in row[3:]])"
   ]
  },
  {
   "cell_type": "code",
   "execution_count": null,
   "metadata": {},
   "outputs": [],
   "source": [
    "Vq.inv()"
   ]
  },
  {
   "cell_type": "code",
   "execution_count": null,
   "metadata": {},
   "outputs": [],
   "source": [
    "print(Aq)"
   ]
  },
  {
   "cell_type": "code",
   "execution_count": null,
   "metadata": {},
   "outputs": [],
   "source": [
    "print(Aq.complex_adjoint)"
   ]
  },
  {
   "cell_type": "code",
   "execution_count": null,
   "metadata": {},
   "outputs": [],
   "source": []
  }
 ],
 "metadata": {
  "kernelspec": {
   "display_name": "Python 3.7.11 ('gspx')",
   "language": "python",
   "name": "python3"
  },
  "language_info": {
   "codemirror_mode": {
    "name": "ipython",
    "version": 3
   },
   "file_extension": ".py",
   "mimetype": "text/x-python",
   "name": "python",
   "nbconvert_exporter": "python",
   "pygments_lexer": "ipython3",
   "version": "3.7.11"
  },
  "orig_nbformat": 4,
  "vscode": {
   "interpreter": {
    "hash": "ad7b04062b11f2f32ad39128cacc2a2bd2b4eeeabc2c58ebe8810cf900e3775b"
   }
  }
 },
 "nbformat": 4,
 "nbformat_minor": 2
}
