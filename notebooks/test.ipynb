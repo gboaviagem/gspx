{
 "cells": [
  {
   "cell_type": "code",
   "execution_count": null,
   "metadata": {},
   "outputs": [],
   "source": [
    "# If gspx is not installed, we add it to the path\n",
    "import os, sys\n",
    "gdir = os.path.dirname(os.getcwd())  # parent folder\n",
    "sys.path.insert(0, gdir)"
   ]
  },
  {
   "cell_type": "code",
   "execution_count": null,
   "metadata": {},
   "outputs": [],
   "source": [
    "import numpy as np\n",
    "from pyquaternion import Quaternion\n",
    "from gspx.signals import QuaternionSignal\n",
    "from gspx.datasets import uk_weather\n",
    "\n",
    "from gspx.utils.display import plot_graph\n",
    "from gspx.datasets import WeatherGraphData, SocialGraphData\n",
    "from gspx.qgsp import create_quaternion_weights, QGFT, QMatrix\n",
    "from gspx.adaptive import QLMS"
   ]
  },
  {
   "cell_type": "code",
   "execution_count": null,
   "metadata": {},
   "outputs": [],
   "source": [
    "A, coords = data.graph\n",
    "data.describe_graph()"
   ]
  },
  {
   "cell_type": "code",
   "execution_count": null,
   "metadata": {},
   "outputs": [],
   "source": [
    "uk_data = WeatherGraphData()\n",
    "Ar, _ = uk_data.graph\n",
    "s = uk_data.signal\n",
    "\n",
    "df = uk_weather()\n",
    "\n",
    "Aq = create_quaternion_weights(\n",
    "    Ar, df, icols=['humidity'], jcols=['temp'],\n",
    "    kcols=['wind_speed'])\n",
    "\n",
    "qgft = QGFT()\n",
    "# qgft.fit(Aq)"
   ]
  },
  {
   "cell_type": "code",
   "execution_count": null,
   "metadata": {},
   "outputs": [],
   "source": [
    "x = np.linalg.inv(Aq.complex_adjoint)"
   ]
  },
  {
   "cell_type": "code",
   "execution_count": null,
   "metadata": {},
   "outputs": [],
   "source": [
    "x"
   ]
  },
  {
   "cell_type": "code",
   "execution_count": null,
   "metadata": {},
   "outputs": [],
   "source": [
    "How do I get the inverse of Vq out of the inverse of V?"
   ]
  },
  {
   "cell_type": "markdown",
   "metadata": {},
   "source": [
    "How do I get the inverse of Vq out of the inverse of V?\n",
    "\n",
    "Vq: eigenvectors from the quaternion adj matrix\n",
    "V: eigenvectors from its complex adjoint."
   ]
  },
  {
   "cell_type": "code",
   "execution_count": null,
   "metadata": {},
   "outputs": [],
   "source": [
    "ca = Aq.complex_adjoint"
   ]
  },
  {
   "cell_type": "code",
   "execution_count": null,
   "metadata": {},
   "outputs": [],
   "source": [
    "eig, V = np.linalg.eigh(ca)"
   ]
  },
  {
   "cell_type": "code",
   "execution_count": null,
   "metadata": {},
   "outputs": [],
   "source": [
    "np.linalg.cond(ca)"
   ]
  },
  {
   "cell_type": "code",
   "execution_count": null,
   "metadata": {},
   "outputs": [],
   "source": [
    "import sys\n",
    "1 / sys.float_info.epsilon"
   ]
  },
  {
   "cell_type": "code",
   "execution_count": null,
   "metadata": {},
   "outputs": [],
   "source": [
    "import matplotlib.pyplot as plt\n",
    "\n",
    "Vinv = np.linalg.inv(V)"
   ]
  },
  {
   "cell_type": "code",
   "execution_count": null,
   "metadata": {},
   "outputs": [],
   "source": [
    "\n",
    "# Heat kernel in all 4 quaternion dimensions\n",
    "k = 0.2\n",
    "ss = np.zeros(len(qgft.idx_freq))\n",
    "ss[qgft.idx_freq] = np.exp(-k * np.arange(len(qgft.idx_freq)))\n",
    "\n",
    "ss = QuaternionSignal.from_rectangular(\n",
    "    np.hstack([ss[:, np.newaxis]] * 4)\n",
    ")\n",
    "\n",
    "rnd = np.random.default_rng(seed=42)\n",
    "err_amplitude = 0.15\n",
    "\n",
    "nn = QuaternionSignal.from_equal_dimensions(\n",
    "    rnd.uniform(low=-err_amplitude, high=err_amplitude, size=len(ss))\n",
    ")\n",
    "\n",
    "s = qgft.inverse_transform(ss)\n",
    "\n",
    "# Ideal LPF\n",
    "h_ideal = np.zeros(len(qgft.idx_freq))\n",
    "bandwidth = int(len(qgft.idx_freq) / 5)\n",
    "h_ideal[qgft.idx_freq[:bandwidth]] = 1\n",
    "h_idealq = QuaternionSignal.from_rectangular(np.hstack((\n",
    "    h_ideal[:, np.newaxis],\n",
    "    np.zeros(len(qgft.idx_freq))[:, np.newaxis],\n",
    "    np.zeros(len(qgft.idx_freq))[:, np.newaxis],\n",
    "    np.zeros(len(qgft.idx_freq))[:, np.newaxis]\n",
    ")))\n",
    "\n",
    "X = QMatrix.vander(qgft.eigq, 7, increasing=True)\n",
    "y = h_idealq\n",
    "\n",
    "qlms = QLMS(alpha=[0.3])\n",
    "qlms.fit(X, y)\n",
    "assert 'result' in qlms.res_[qlms.best_lr_]\n",
    "\n",
    "h_opt = qlms.predict(X)\n",
    "h_opt = QuaternionSignal.from_samples(h_opt.matrix.ravel())\n",
    "\n",
    "# Ideal filter\n",
    "sn = qgft.inverse_transform(ss + nn)\n",
    "mse_prior = np.mean((s - sn).abs()**2)\n",
    "np.testing.assert_allclose(\n",
    "    mse_prior, 0.029666218144683097, rtol=1e-06, atol=1e-06)\n",
    "\n",
    "ssn_lpf = (ss + nn).hadamard(h_idealq)\n",
    "s_lpf = qgft.inverse_transform(ssn_lpf)\n",
    "mse_post = np.mean((s - s_lpf).abs()**2)\n",
    "np.testing.assert_allclose(\n",
    "    mse_post, 0.006566188086831742, rtol=1e-06, atol=1e-06)\n",
    "\n",
    "# FIR filter\n",
    "sn = qgft.inverse_transform(ss + nn)\n",
    "\n",
    "ssn_lpf = (ss + nn).hadamard(h_opt)\n",
    "s_lpf = qgft.inverse_transform(ssn_lpf)\n",
    "mse_post = np.mean((s - s_lpf).abs()**2)"
   ]
  },
  {
   "cell_type": "code",
   "execution_count": null,
   "metadata": {},
   "outputs": [],
   "source": []
  }
 ],
 "metadata": {
  "interpreter": {
   "hash": "ad7b04062b11f2f32ad39128cacc2a2bd2b4eeeabc2c58ebe8810cf900e3775b"
  },
  "kernelspec": {
   "display_name": "Python 3.7.11 ('gspx')",
   "language": "python",
   "name": "python3"
  },
  "language_info": {
   "codemirror_mode": {
    "name": "ipython",
    "version": 3
   },
   "file_extension": ".py",
   "mimetype": "text/x-python",
   "name": "python",
   "nbconvert_exporter": "python",
   "pygments_lexer": "ipython3",
   "version": "3.7.11"
  },
  "orig_nbformat": 4
 },
 "nbformat": 4,
 "nbformat_minor": 2
}
