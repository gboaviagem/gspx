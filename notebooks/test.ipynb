{
 "cells": [
  {
   "cell_type": "code",
   "execution_count": null,
   "metadata": {},
   "outputs": [],
   "source": [
    "# If gspx is not installed, we add it to the path\n",
    "import os, sys\n",
    "gdir = os.path.dirname(os.getcwd())  # parent folder\n",
    "sys.path.insert(0, gdir)"
   ]
  },
  {
   "cell_type": "code",
   "execution_count": null,
   "metadata": {},
   "outputs": [],
   "source": [
    "import numpy as np\n",
    "\n",
    "from gspx.utils.display import plot_graph\n",
    "from gspx.datasets import WeatherGraphData, uk_weather\n",
    "from gspx.signals import QuaternionSignal\n",
    "from gspx.qgsp import create_quaternion_weights, QGFT, QMatrix\n",
    "\n",
    "uk_data = WeatherGraphData()\n",
    "Ar, coords = uk_data.graph\n",
    "s = uk_data.signal\n",
    "\n",
    "df = uk_weather()\n",
    "\n",
    "Aq = create_quaternion_weights(\n",
    "    Ar, df, icols=['humidity'], jcols=['temp'],\n",
    "    kcols=['wind_speed'])\n",
    "\n",
    "plot_graph(\n",
    "    Aq.abs(), coords=coords,\n",
    "    figsize=(2, 4), colormap='viridis',\n",
    "    node_size=40)"
   ]
  },
  {
   "cell_type": "code",
   "execution_count": null,
   "metadata": {},
   "outputs": [],
   "source": [
    "from gspx.utils.quaternion_matrix import implode_quaternions\n",
    "from gspx.qgsp import QMatrix\n",
    "\n",
    "def qinv(Q, rtol=1e-05, atol=1e-08):\n",
    "    ca = Q.complex_adjoint\n",
    "    assert np.linalg.cond(ca) < 1/sys.float_info.epsilon, (\n",
    "        \"The given matrix is not invertible.\"\n",
    "    )\n",
    "    nrows, _ = ca.shape\n",
    "    n = int(nrows/2)\n",
    "    ca_inv = np.linalg.inv(ca)\n",
    "    inv00 = ca_inv[:n, :n]\n",
    "    inv01 = ca_inv[:n, n:]\n",
    "    inv10 = ca_inv[n:, :n]\n",
    "    inv11 = ca_inv[n:, n:]\n",
    "    assert np.allclose(inv00, inv11.conjugate(), rtol=rtol, atol=atol)\n",
    "    assert np.allclose(inv01, - inv10.conjugate(), rtol=rtol, atol=atol)\n",
    "    qmatrix = implode_quaternions(np.dstack((\n",
    "        np.real(inv00),\n",
    "        np.imag(inv00),\n",
    "        np.real(inv01),\n",
    "        np.imag(inv01),\n",
    "    )))\n",
    "    return QMatrix.from_matrix(qmatrix)"
   ]
  },
  {
   "cell_type": "code",
   "execution_count": null,
   "metadata": {},
   "outputs": [],
   "source": [
    "QMatrix.visualize((qinv(Aq) * Aq))"
   ]
  },
  {
   "cell_type": "code",
   "execution_count": null,
   "metadata": {},
   "outputs": [],
   "source": []
  }
 ],
 "metadata": {
  "interpreter": {
   "hash": "ad7b04062b11f2f32ad39128cacc2a2bd2b4eeeabc2c58ebe8810cf900e3775b"
  },
  "kernelspec": {
   "display_name": "Python 3.7.11 ('gspx')",
   "language": "python",
   "name": "python3"
  },
  "language_info": {
   "codemirror_mode": {
    "name": "ipython",
    "version": 3
   },
   "file_extension": ".py",
   "mimetype": "text/x-python",
   "name": "python",
   "nbconvert_exporter": "python",
   "pygments_lexer": "ipython3",
   "version": "3.7.11"
  },
  "orig_nbformat": 4
 },
 "nbformat": 4,
 "nbformat_minor": 2
}
