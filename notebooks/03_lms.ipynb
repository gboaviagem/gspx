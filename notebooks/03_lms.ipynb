{
 "cells": [
  {
   "cell_type": "markdown",
   "metadata": {},
   "source": [
    "## Ordinary LMS\n",
    "\n",
    "Materials from:\n",
    "\n",
    "- https://see.stanford.edu/materials/aimlcs229/cs229-notes1.pdf\n",
    "- http://openclassroom.stanford.edu/MainFolder/DocumentPage.php?course=MachineLearning&doc=exercises/ex3/ex3.html"
   ]
  },
  {
   "cell_type": "code",
   "execution_count": 8,
   "metadata": {},
   "outputs": [
    {
     "name": "stdout",
     "output_type": "stream",
     "text": [
      "(47, 2) (47, 1)\n"
     ]
    }
   ],
   "source": [
    "import pathlib\n",
    "import numpy as np\n",
    "import sys\n",
    "\n",
    "path = pathlib.Path().absolute().parent\n",
    "sys.path.insert(0, str(path.parent))\n",
    "\n",
    "xdata = np.loadtxt(\n",
    "    f\"{path}/resources/exercise_data/ex3x.dat\", unpack=True).T\n",
    "ydata = np.loadtxt(\n",
    "    f\"{path}/resources/exercise_data/ex3y.dat\", unpack=True)[:, np.newaxis]\n",
    "\n",
    "print(xdata.shape, ydata.shape)"
   ]
  },
  {
   "cell_type": "code",
   "execution_count": 9,
   "metadata": {},
   "outputs": [
    {
     "data": {
      "text/plain": [
       "'/home/gbr'"
      ]
     },
     "execution_count": 9,
     "metadata": {},
     "output_type": "execute_result"
    }
   ],
   "source": [
    "str(path.parent)"
   ]
  },
  {
   "cell_type": "code",
   "execution_count": 2,
   "metadata": {},
   "outputs": [],
   "source": [
    "class LMS:\n",
    "    def __init__(self, max_iter=100, alpha=None, scale=True):\n",
    "        if alpha is None:\n",
    "            alpha = [0.01, 0.03, 0.1, 0.3, 1, 1.3]\n",
    "        if not isinstance(alpha, list):\n",
    "            alpha = [alpha]\n",
    "\n",
    "        self.max_iter = max_iter\n",
    "        self.alpha = alpha\n",
    "        self.scale = scale\n",
    "\n",
    "    @staticmethod\n",
    "    def add_intercept_term(X):\n",
    "        m, _ = X.shape\n",
    "        return np.hstack((np.ones((m, 1)), X))\n",
    "\n",
    "    @staticmethod\n",
    "    def normal_scaling(X, ignore_first=True):\n",
    "        mu = X.mean(axis=0)\n",
    "        std = np.std(X, axis=0, ddof=1) + 1e-10\n",
    "        X_ = X.copy()\n",
    "        idx = 1 if ignore_first else 0\n",
    "        X_[:, idx:] = (X[:, idx:] - mu[idx:]) / std[idx:]\n",
    "        return X_, mu, std\n",
    "\n",
    "    @staticmethod\n",
    "    def initiate(length, method='zeros'):\n",
    "        opts = ['zeros']\n",
    "        assert method in opts, (\n",
    "            f\"Invalid option, choose among {opts}.\")\n",
    "\n",
    "        if method == 'zeros':\n",
    "            return np.zeros((length, 1))\n",
    "\n",
    "    def fit(self, X, y):\n",
    "        \"\"\"Run the LMS algorithm.\"\"\"\n",
    "        m, d = X.shape\n",
    "        X_ = LMS.add_intercept_term(X)\n",
    "        if self.scale:\n",
    "            X_, mu, std = LMS.normal_scaling(X_, ignore_first=True)\n",
    "            self.mu_ = mu\n",
    "            self.std_ = std\n",
    "\n",
    "        res = dict()\n",
    "        for lr in self.alpha:\n",
    "            theta = LMS.initiate(length=d + 1, method='zeros')\n",
    "            J = np.zeros(self.max_iter)\n",
    "\n",
    "            for idx_iter in range(self.max_iter):\n",
    "                err = X_ @ theta - y\n",
    "\n",
    "                # Calculate the J term, which is the current MSE\n",
    "                J[idx_iter] = (0.5/m) * err.T @ err\n",
    "\n",
    "                # The gradient\n",
    "                grad = (1/m) * np.conjugate(X_).T @ err\n",
    "\n",
    "                # Here is the actual update\n",
    "                theta = theta - lr * grad\n",
    "            res[lr] = dict(result=theta, cost=J)\n",
    "\n",
    "        self.res = res\n",
    "        idx_lower_cost = np.argmin([v['cost'][-1] for k, v in res.items()])\n",
    "        self.best_lr = self.alpha[idx_lower_cost]\n",
    "\n",
    "        return self\n",
    "\n",
    "    def predict(self, X):\n",
    "        X_ = LMS.add_intercept_term(X)\n",
    "        if self.scale:\n",
    "            X_[:, 1:] = (X_[:, 1:] - self.mu_[1:]) / self.std_[1:]\n",
    "        best_theta = self.res[self.best_lr]['result']\n",
    "        return X_ @ best_theta"
   ]
  },
  {
   "cell_type": "code",
   "execution_count": 3,
   "metadata": {},
   "outputs": [
    {
     "data": {
      "text/plain": [
       "<__main__.LMS at 0x7f028034ab10>"
      ]
     },
     "execution_count": 3,
     "metadata": {},
     "output_type": "execute_result"
    }
   ],
   "source": [
    "MAX_ITR = 100\n",
    "lms = LMS(max_iter=MAX_ITR, alpha=None, scale=True)\n",
    "lms.fit(xdata, y=ydata)"
   ]
  },
  {
   "cell_type": "code",
   "execution_count": 4,
   "metadata": {},
   "outputs": [
    {
     "data": {
      "image/png": "[encoded data removed]",
      "text/plain": [
       "<Figure size 432x288 with 1 Axes>"
      ]
     },
     "metadata": {
      "needs_background": "light"
     },
     "output_type": "display_data"
    }
   ],
   "source": [
    "import matplotlib.pyplot as plt\n",
    "\n",
    "plotstyle = ['b', 'r', 'g', 'k', 'b--', 'r--']\n",
    "\n",
    "plt.figure()\n",
    "for i, val in enumerate(lms.res.keys()):\n",
    "    plt.plot(\n",
    "        np.arange(MAX_ITR)[:50],\n",
    "        lms.res[val]['cost'][:50],\n",
    "        plotstyle[i],\n",
    "        label=val)\n",
    "\n",
    "plt.legend(loc=\"upper right\")\n",
    "\n",
    "plt.show()"
   ]
  },
  {
   "cell_type": "markdown",
   "metadata": {},
   "source": [
    "## Applying the validated implementation on a real-weighted graph"
   ]
  },
  {
   "cell_type": "code",
   "execution_count": 7,
   "metadata": {},
   "outputs": [
    {
     "data": {
      "text/plain": [
       "'/home/gbr/gspx'"
      ]
     },
     "execution_count": 7,
     "metadata": {},
     "output_type": "execute_result"
    }
   ],
   "source": [
    "# If gspx is not installed, we add it to the path\n",
    "import os, sys\n",
    "gdir = os.path.dirname(os.getcwd())  # parent folder\n",
    "sys.path.insert(0, gdir)\n",
    "gdir"
   ]
  },
  {
   "cell_type": "code",
   "execution_count": 6,
   "metadata": {},
   "outputs": [
    {
     "data": {
      "image/png": "[encoded data removed]",
      "text/plain": [
       "<Figure size 576x288 with 1 Axes>"
      ]
     },
     "metadata": {},
     "output_type": "display_data"
    }
   ],
   "source": [
    "from gspx.utils.graph import make_sensor\n",
    "from gspx.utils.display import plot_graph\n",
    "from gspx.utils.graph import graph_total_variation\n",
    "\n",
    "A, coords = make_sensor(N=80)\n",
    "plot_graph(\n",
    "    A, coords=coords,\n",
    "    figsize=(8, 4), colormap='viridis',\n",
    "    node_size=120)"
   ]
  },
  {
   "cell_type": "code",
   "execution_count": null,
   "metadata": {},
   "outputs": [],
   "source": [
    "import matplotlib.pyplot as plt\n",
    "\n",
    "eigvals, V = np.linalg.eig(A)\n",
    "tv = graph_total_variation(V, A)\n",
    "\n",
    "plt.scatter(np.real(eigvals), np.imag(eigvals), c=tv)\n",
    "plt.colorbar()\n",
    "plt.title(\"Total Variation of eigenvectors for each eigenvalue\")\n",
    "plt.xlabel(\"Real(eigvals)\")\n",
    "plt.ylabel(\"Imag(eigvals)\")\n",
    "plt.show()"
   ]
  },
  {
   "cell_type": "code",
   "execution_count": null,
   "metadata": {},
   "outputs": [],
   "source": [
    "idx_freq = np.argsort(tv)\n",
    "\n",
    "plt.figure()\n",
    "plt.scatter(np.arange(len(idx_freq)), tv[idx_freq], c=tv[idx_freq])\n",
    "plt.xlabel(\"Index of eigenvalues\")\n",
    "plt.ylabel(\"TV\")\n",
    "plt.title(\"Sorting eigenvalues by TV\")\n",
    "plt.colorbar()\n",
    "plt.show()"
   ]
  },
  {
   "cell_type": "markdown",
   "metadata": {},
   "source": [
    "### Ideal filter response"
   ]
  },
  {
   "cell_type": "code",
   "execution_count": null,
   "metadata": {},
   "outputs": [],
   "source": [
    "h_ideal = np.zeros(len(idx_freq))\n",
    "\n",
    "# Bandwith of 20% the frequency support\n",
    "bandwidth = int(len(idx_freq) / 5)\n",
    "h_ideal[idx_freq[:bandwidth]] = 1\n",
    "\n",
    "plt.figure()\n",
    "plt.scatter(np.arange(len(idx_freq)), h_ideal[idx_freq], c=tv[idx_freq])\n",
    "plt.xlabel(\"Index of eigenvalues\")\n",
    "plt.ylabel(\"Frequency response\")\n",
    "cbar = plt.colorbar()\n",
    "cbar.set_label(\"TV of respective eigenvector\", rotation=90)\n",
    "plt.title(\"Ideal LPF\")\n",
    "plt.show()"
   ]
  },
  {
   "cell_type": "code",
   "execution_count": null,
   "metadata": {},
   "outputs": [],
   "source": [
    "# Heat kernel\n",
    "k = 0.2\n",
    "ss = np.exp(-k * np.arange(len(idx_freq)))"
   ]
  },
  {
   "cell_type": "code",
   "execution_count": null,
   "metadata": {},
   "outputs": [],
   "source": [
    "from gspx.utils.gsp import gft, igft\n",
    "\n",
    "s = igft(A, ss)\n",
    "\n",
    "plot_graph(\n",
    "    A, coords=coords, colors=s,\n",
    "    figsize=(8, 4), colormap='viridis',\n",
    "    node_size=120)"
   ]
  },
  {
   "cell_type": "code",
   "execution_count": null,
   "metadata": {},
   "outputs": [],
   "source": [
    "rnd = np.random.RandomState(seed=42)\n",
    "err_amplitude = 0.2\n",
    "nn = rnd.uniform(low=-err_amplitude, high=err_amplitude, size=len(ss))\n",
    "\n",
    "sn = igft(A, ss + nn)\n",
    "\n",
    "plt.figure()\n",
    "plt.plot(np.arange(len(idx_freq)), ss, 'b.', label=\"Signal\")\n",
    "plt.plot(np.arange(len(idx_freq)), ss + nn, 'r.', label=\"Signal + Noise\")\n",
    "plt.xlabel(\"Index of eigenvalues\")\n",
    "plt.title(\"Signal and noise spectrum\")\n",
    "plt.legend(loc=\"upper right\")\n",
    "plt.show()"
   ]
  },
  {
   "cell_type": "code",
   "execution_count": null,
   "metadata": {},
   "outputs": [],
   "source": [
    "MAX_ITR = 1000\n",
    "deg = 7\n",
    "\n",
    "eig_vander = np.vander(eigvals, N=deg, increasing=True)\n",
    "theta_ideal = h_ideal[:, np.newaxis]\n",
    "print(eig_vander.shape, theta_ideal.shape)\n",
    "\n",
    "learning_rates = [0.001, 0.01, 0.1, 0.3]\n",
    "\n",
    "lms = LMS(max_iter=MAX_ITR, alpha=learning_rates, scale=True)\n",
    "lms.fit(eig_vander, y=theta_ideal)"
   ]
  },
  {
   "cell_type": "code",
   "execution_count": null,
   "metadata": {},
   "outputs": [],
   "source": [
    "import matplotlib.pyplot as plt\n",
    "\n",
    "plotstyle = ['b', 'r', 'g', 'k', 'b--', 'r--']\n",
    "\n",
    "plt.figure()\n",
    "for i, val in enumerate(lms.res.keys()):\n",
    "    plt.plot(\n",
    "        np.arange(MAX_ITR)[:50],\n",
    "        lms.res[val]['cost'][:50],\n",
    "        plotstyle[i],\n",
    "        label=val)\n",
    "plt.ylabel(\"Cost function (MSE)\")\n",
    "plt.legend(loc=\"upper right\")\n",
    "\n",
    "plt.show()"
   ]
  },
  {
   "cell_type": "code",
   "execution_count": null,
   "metadata": {},
   "outputs": [],
   "source": [
    "h_opt = lms.predict(eig_vander)\n",
    "\n",
    "plt.figure()\n",
    "plt.plot(np.arange(len(idx_freq)), h_ideal[idx_freq], 'k.', label=\"ideal\")\n",
    "plt.plot(np.arange(len(idx_freq)), h_opt[idx_freq], 'r.', label=\"LMS\")\n",
    "plt.xlabel(\"Index of eigenvalues\")\n",
    "plt.ylabel(\"Frequency response\")\n",
    "plt.legend(loc=\"upper right\")\n",
    "plt.show()"
   ]
  },
  {
   "cell_type": "markdown",
   "metadata": {},
   "source": [
    "### Removing noise with the adaptive filter"
   ]
  },
  {
   "cell_type": "code",
   "execution_count": null,
   "metadata": {},
   "outputs": [],
   "source": [
    "print(\"MSE prior:\", np.mean((s - sn)**2))"
   ]
  },
  {
   "cell_type": "code",
   "execution_count": null,
   "metadata": {},
   "outputs": [],
   "source": [
    "s_lpf = igft(A, (ss + nn) * h_opt.ravel())\n",
    "\n",
    "print(\"MSE post:\", np.mean((s - s_lpf)**2))"
   ]
  },
  {
   "cell_type": "code",
   "execution_count": null,
   "metadata": {},
   "outputs": [],
   "source": [
    "plt.figure()\n",
    "plt.plot(np.arange(len(idx_freq)), np.abs(ss), 'k.', label=\"pure\")\n",
    "plt.plot(np.arange(len(idx_freq)), (ss + nn), 'r.', label=\"deteriorated\")\n",
    "plt.plot(np.arange(len(idx_freq)), (ss + nn) * h_opt.ravel(), 'g.', label=\"reconstructed\")\n",
    "plt.legend(loc=\"upper right\")\n",
    "plt.title(\"Spectra of signals\")\n",
    "plt.show()"
   ]
  }
 ],
 "metadata": {
  "interpreter": {
   "hash": "50f9ca3495cd5f957bb3dec367da9f5b4557b82d21010cefe2ba6d71fda74394"
  },
  "kernelspec": {
   "display_name": "Python 3.7.12 ('gspx')",
   "language": "python",
   "name": "python3"
  },
  "language_info": {
   "codemirror_mode": {
    "name": "ipython",
    "version": 3
   },
   "file_extension": ".py",
   "mimetype": "text/x-python",
   "name": "python",
   "nbconvert_exporter": "python",
   "pygments_lexer": "ipython3",
   "version": "3.7.11"
  },
  "orig_nbformat": 4
 },
 "nbformat": 4,
 "nbformat_minor": 2
}
