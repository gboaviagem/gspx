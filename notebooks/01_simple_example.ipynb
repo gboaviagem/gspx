{
 "cells": [
  {
   "cell_type": "code",
   "execution_count": 2,
   "metadata": {},
   "outputs": [],
   "source": [
    "# If gspx is not installed, we add it to the path\n",
    "import os, sys\n",
    "gdir = os.path.dirname(os.getcwd())  # parent folder\n",
    "sys.path.insert(0, gdir)"
   ]
  },
  {
   "cell_type": "code",
   "execution_count": 4,
   "metadata": {},
   "outputs": [],
   "source": [
    "from gspx.utils.display import plot_graph\n",
    "from gspx.qgsp import QMatrix\n",
    "from gspx.utils.quaternion_matrix import explode_quaternions, implode_quaternions\n",
    "import numpy as np\n",
    "\n",
    "coords = np.array([\n",
    "    [0, 1],\n",
    "    [-1, 0],\n",
    "    [0, -1],\n",
    "    [1, 0],\n",
    "    [0, 0],\n",
    "])\n",
    "\n",
    "M = np.zeros((5, 5, 4))\n",
    "\n",
    "idx = np.array([\n",
    "    [0, 4],\n",
    "    [1, 4],\n",
    "    [2, 4],\n",
    "    [3, 4],\n",
    "    [3, 0]\n",
    "])"
   ]
  },
  {
   "cell_type": "code",
   "execution_count": 19,
   "metadata": {},
   "outputs": [],
   "source": [
    "Aq = QMatrix.from_matrix(implode_quaternions(M))"
   ]
  },
  {
   "cell_type": "code",
   "execution_count": 20,
   "metadata": {},
   "outputs": [],
   "source": [
    "from pyquaternion import Quaternion\n",
    "from tqdm import tqdm\n",
    "\n",
    "Ne = 5\n",
    "\n",
    "rnd = np.random.RandomState(seed=42)\n",
    "entries = rnd.randint(10, size=(Ne, 4))\n",
    "\n",
    "for n, i in enumerate(idx):\n",
    "    Aq.matrix[i[0], i[1]] = Quaternion(entries[n])\n",
    "\n",
    "Aq = Aq + Aq.conjugate().transpose()\n",
    "\n",
    "eigq, Vq = Aq.eigendecompose(hermitian_gso=True)"
   ]
  },
  {
   "cell_type": "code",
   "execution_count": 21,
   "metadata": {},
   "outputs": [
    {
     "name": "stdout",
     "output_type": "stream",
     "text": [
      "['0.000 +0.000i +0.000j +0.000k', '0.000 +0.000i +0.000j +0.000k', '0.000 +0.000i +0.000j +0.000k', '1.000 -7.000i -5.000j -1.000k', '6.000 +3.000i +7.000j +4.000k']\n",
      "['0.000 +0.000i +0.000j +0.000k', '0.000 +0.000i +0.000j +0.000k', '0.000 +0.000i +0.000j +0.000k', '0.000 +0.000i +0.000j +0.000k', '6.000 +9.000i +2.000j +6.000k']\n",
      "['0.000 +0.000i +0.000j +0.000k', '0.000 +0.000i +0.000j +0.000k', '0.000 +0.000i +0.000j +0.000k', '0.000 +0.000i +0.000j +0.000k', '7.000 +4.000i +3.000j +7.000k']\n",
      "['1.000 +7.000i +5.000j +1.000k', '0.000 +0.000i +0.000j +0.000k', '0.000 +0.000i +0.000j +0.000k', '0.000 +0.000i +0.000j +0.000k', '7.000 +2.000i +5.000j +4.000k']\n",
      "['6.000 -3.000i -7.000j -4.000k', '6.000 -9.000i -2.000j -6.000k', '7.000 -4.000i -3.000j -7.000k', '7.000 -2.000i -5.000j -4.000k', '0.000 +0.000i +0.000j +0.000k']\n"
     ]
    }
   ],
   "source": [
    "for row in Aq.matrix:\n",
    "    print([str(q) for q in row])"
   ]
  },
  {
   "cell_type": "code",
   "execution_count": 26,
   "metadata": {},
   "outputs": [
    {
     "data": {
      "image/png": "[encoded data removed]",
      "text/plain": [
       "<Figure size 216x216 with 1 Axes>"
      ]
     },
     "metadata": {},
     "output_type": "display_data"
    }
   ],
   "source": [
    "import networkx as nx\n",
    "import matplotlib.pyplot as plt\n",
    "\n",
    "A_ = Aq.abs()\n",
    "xi, yi = np.where(A_)\n",
    "edgelist = [\n",
    "    (xi[n], yi[n], {'weight': A_[xi[n], yi[n]]})\n",
    "    for n in range(len(xi))\n",
    "]\n",
    "\n",
    "g = nx.DiGraph()\n",
    "\n",
    "g.add_edges_from(edgelist)\n",
    "plot_graph(\n",
    "    g, coords, figsize=(3, 3), node_size=60,\n",
    "    edge_color=(0.8, 0.8, 0.8, 0.8))\n",
    "fig = plt.gcf()\n",
    "plt.savefig('./degenerate_qgft_graph.pdf', dpi=300)"
   ]
  },
  {
   "cell_type": "code",
   "execution_count": 27,
   "metadata": {},
   "outputs": [],
   "source": [
    "from gspx.utils.quaternion_matrix import explode_quaternions, implode_quaternions\n",
    "arr = explode_quaternions(Vq.matrix)\n",
    "arrq = implode_quaternions(np.round(arr, decimals=2))"
   ]
  },
  {
   "cell_type": "code",
   "execution_count": 28,
   "metadata": {},
   "outputs": [
    {
     "name": "stdout",
     "output_type": "stream",
     "text": [
      "['-0.240 +0.000i -0.270j +0.160k', '0.590 +0.000i -0.020j +0.040k', '0.000 +0.000i +0.000j +0.000k']\n",
      "['-0.170 -0.190i -0.220j +0.170k', '-0.310 +0.130i +0.090j +0.160k', '-0.410 +0.240i +0.390j -0.230k']\n",
      "['-0.250 -0.120i -0.110j +0.130k', '-0.210 +0.140i +0.200j +0.090k', '0.190 -0.400i -0.480j +0.370k']\n",
      "['-0.260 +0.010i +0.040j +0.250k', '-0.250 -0.480i -0.250j -0.060k', '0.000 +0.000i +0.000j +0.000k']\n",
      "['0.310 +0.180i -0.250j -0.520k', '-0.020 -0.150i -0.070j -0.090k', '0.000 +0.000i +0.000j +0.000k']\n"
     ]
    }
   ],
   "source": [
    "for row in arrq:\n",
    "    print([str(q) for q in row[:3]])"
   ]
  },
  {
   "cell_type": "code",
   "execution_count": 29,
   "metadata": {},
   "outputs": [
    {
     "name": "stdout",
     "output_type": "stream",
     "text": [
      "['-0.020 +0.000i -0.520j -0.280k', '-0.040 +0.000i +0.380j +0.030k']\n",
      "['-0.050 +0.010i -0.120j +0.350k', '-0.010 +0.050i +0.200j +0.310k']\n",
      "['-0.100 -0.040i +0.010j +0.310k', '0.010 -0.050i +0.260j +0.210k']\n",
      "['0.360 -0.130i +0.300j -0.360k', '-0.110 -0.030i +0.270j +0.210k']\n",
      "['0.070 -0.040i +0.100j +0.140k', '0.380 +0.140i +0.550j +0.040k']\n"
     ]
    }
   ],
   "source": [
    "for row in arrq:\n",
    "    print([str(q) for q in row[3:]])"
   ]
  },
  {
   "cell_type": "code",
   "execution_count": 31,
   "metadata": {},
   "outputs": [
    {
     "data": {
      "text/plain": [
       "Quaternion-valued array of shape (5, 5):\n",
       "[[Quaternion(1.0023, 1.1443623826323801e-17, 4.679590048795035e-18, -3.555142291666868e-18)\n",
       "  Quaternion(0.00020000000000002343, 0.001200000000000017, 0.0005000000000000178, 0.002400000000000003)\n",
       "  Quaternion(0.0009000000000000166, -0.0004999999999999758, -0.0023999999999999907, 0.004000000000000014)\n",
       "  Quaternion(-0.0023999999999999894, 0.0015999999999999927, 0.0022000000000000123, 0.0039999999999999845)\n",
       "  Quaternion(-0.001700000000000007, -0.00240000000000002, -0.008199999999999989, 0.0016999999999999932)]\n",
       " [Quaternion(0.00020000000000002343, -0.0012000000000000218, -0.0005000000000000165, -0.0024000000000000033)\n",
       "  Quaternion(0.9978999999999999, -1.0436096431476472e-17, -6.0645932720149176e-18, 1.9364371217633903e-17)\n",
       "  Quaternion(0.007499999999999943, 0.0010000000000000258, -0.0013000000000000017, 0.0005999999999999466)\n",
       "  Quaternion(-0.0035999999999999583, -0.00819999999999999, -0.001999999999999998, 0.0034999999999999875)\n",
       "  Quaternion(0.004400000000000001, -0.0040000000000000036, -0.0016000000000000042, -0.004300000000000012)]\n",
       " [Quaternion(0.0009000000000000166, 0.0004999999999999747, 0.0023999999999999985, -0.0040000000000000105)\n",
       "  Quaternion(0.007499999999999943, -0.0010000000000000234, 0.001299999999999996, -0.0005999999999999605)\n",
       "  Quaternion(1.0031999999999999, 1.7963408538435033e-17, 1.341982081015658e-17, 2.3080842792566612e-17)\n",
       "  Quaternion(-0.00290000000000001, -0.0027999999999999887, -0.007600000000000005, 0.0030999999999999877)\n",
       "  Quaternion(0.00910000000000001, 0.0030000000000000096, 0.003999999999999981, 0.0022000000000000075)]\n",
       " [Quaternion(-0.0024000000000000132, -0.0015999999999999764, -0.002200000000000004, -0.003999999999999976)\n",
       "  Quaternion(-0.0035999999999999782, 0.008200000000000013, 0.0020000000000000157, -0.0034999999999999892)\n",
       "  Quaternion(-0.002899999999999986, 0.002799999999999983, 0.007600000000000003, -0.0030999999999999778)\n",
       "  Quaternion(0.9868999999999999, 0.0, -7.11375403028569e-18, 5.551115123125783e-17)\n",
       "  Quaternion(0.0020000000000000295, -0.0019999999999999844, 0.0038000000000000117, -0.0015000000000000013)]\n",
       " [Quaternion(-0.001700000000000007, 0.00240000000000002, 0.008199999999999992, -0.0016999999999999862)\n",
       "  Quaternion(0.004400000000000001, 0.0040000000000000036, 0.0015999999999999834, 0.004300000000000012)\n",
       "  Quaternion(0.00910000000000001, -0.0030000000000000096, -0.004, -0.0022000000000000353)\n",
       "  Quaternion(0.0020000000000000295, 0.0019999999999999844, -0.003799999999999984, 0.0015000000000000013)\n",
       "  Quaternion(1.0015, 0.0, -2.2190582704695314e-18, 0.0)]]"
      ]
     },
     "execution_count": 31,
     "metadata": {},
     "output_type": "execute_result"
    }
   ],
   "source": [
    "M = QMatrix.from_matrix(arrq)\n",
    "M * M.transpose().conjugate()"
   ]
  },
  {
   "cell_type": "code",
   "execution_count": 33,
   "metadata": {},
   "outputs": [
    {
     "data": {
      "text/plain": [
       "array([[1., 0., 0., 0., 0.],\n",
       "       [0., 1., 0., 0., 0.],\n",
       "       [0., 0., 1., 0., 0.],\n",
       "       [0., 0., 0., 1., 0.],\n",
       "       [0., 0., 0., 0., 1.]])"
      ]
     },
     "execution_count": 33,
     "metadata": {},
     "output_type": "execute_result"
    }
   ],
   "source": [
    "np.round((Vq * Vq.conjugate().transpose()).abs(), decimals=5)"
   ]
  },
  {
   "cell_type": "code",
   "execution_count": 46,
   "metadata": {},
   "outputs": [
    {
     "data": {
      "text/plain": [
       "(0.9999999999999992+1.1102230246251559e-16j)"
      ]
     },
     "execution_count": 46,
     "metadata": {},
     "output_type": "execute_result"
    }
   ],
   "source": [
    "np.linalg.det(Vq.complex_adjoint)"
   ]
  },
  {
   "cell_type": "code",
   "execution_count": 13,
   "metadata": {},
   "outputs": [
    {
     "name": "stdout",
     "output_type": "stream",
     "text": [
      "Quaternion-valued array of shape (5, 5):\n",
      "[[Quaternion(0.0, 0.0, 0.0, 0.0) Quaternion(0.0, 0.0, 0.0, 0.0)\n",
      "  Quaternion(0.0, 0.0, 0.0, 0.0) Quaternion(1.0, -7.0, -5.0, -1.0)\n",
      "  Quaternion(6.0, 3.0, 7.0, 4.0)]\n",
      " [Quaternion(0.0, 0.0, 0.0, 0.0) Quaternion(0.0, 0.0, 0.0, 0.0)\n",
      "  Quaternion(0.0, 0.0, 0.0, 0.0) Quaternion(0.0, 0.0, 0.0, 0.0)\n",
      "  Quaternion(6.0, 9.0, 2.0, 6.0)]\n",
      " [Quaternion(0.0, 0.0, 0.0, 0.0) Quaternion(0.0, 0.0, 0.0, 0.0)\n",
      "  Quaternion(0.0, 0.0, 0.0, 0.0) Quaternion(0.0, 0.0, 0.0, 0.0)\n",
      "  Quaternion(7.0, 4.0, 3.0, 7.0)]\n",
      " [Quaternion(1.0, 7.0, 5.0, 1.0) Quaternion(0.0, 0.0, 0.0, 0.0)\n",
      "  Quaternion(0.0, 0.0, 0.0, 0.0) Quaternion(0.0, 0.0, 0.0, 0.0)\n",
      "  Quaternion(7.0, 2.0, 5.0, 4.0)]\n",
      " [Quaternion(6.0, -3.0, -7.0, -4.0) Quaternion(6.0, -9.0, -2.0, -6.0)\n",
      "  Quaternion(7.0, -4.0, -3.0, -7.0) Quaternion(7.0, -2.0, -5.0, -4.0)\n",
      "  Quaternion(0.0, 0.0, 0.0, 0.0)]]\n"
     ]
    }
   ],
   "source": [
    "print(Aq)"
   ]
  },
  {
   "cell_type": "code",
   "execution_count": 36,
   "metadata": {},
   "outputs": [
    {
     "data": {
      "text/plain": [
       "array([-22.83570384+0.j, -22.83570384+0.j,  -6.34920255+0.j,\n",
       "        -6.34920255+0.j,   0.        +0.j,  -0.        +0.j,\n",
       "         6.45799327+0.j,   6.45799327-0.j,  22.72691312-0.j,\n",
       "        22.72691312-0.j])"
      ]
     },
     "execution_count": 36,
     "metadata": {},
     "output_type": "execute_result"
    }
   ],
   "source": [
    "eigvals, V = np.linalg.eig(Aq.complex_adjoint)\n",
    "np.sort(np.round(eigvals, decimals=10))"
   ]
  },
  {
   "cell_type": "code",
   "execution_count": 50,
   "metadata": {},
   "outputs": [
    {
     "name": "stdout",
     "output_type": "stream",
     "text": [
      "Running eigendecomposition of the shift operator.\n",
      "Sorting the frequencies based on Total Variation.\n"
     ]
    },
    {
     "name": "stderr",
     "output_type": "stream",
     "text": [
      "Normalizing each eigenvector by its L1-norm.: 100%|██████████| 5/5 [00:00<00:00, 1242.24it/s]\n"
     ]
    },
    {
     "data": {
      "image/png": "[encoded data removed]",
      "text/plain": [
       "<Figure size 288x144 with 2 Axes>"
      ]
     },
     "metadata": {
      "needs_background": "light"
     },
     "output_type": "display_data"
    }
   ],
   "source": [
    "from gspx.qgsp import QGFT\n",
    "\n",
    "qgft2 = QGFT(norm=1)\n",
    "qgft2.fit(Aq)\n",
    "\n",
    "plt.figure(figsize=(4, 2))\n",
    "plt.scatter(np.real(qgft2.eigc), np.imag(qgft2.eigc), c=qgft2.tv_)\n",
    "plt.colorbar()\n",
    "# plt.title(\"Total Variation of eigenvectors for each eigenvalue\")\n",
    "plt.xlabel(\"Real(eigvals)\")\n",
    "plt.ylabel(\"Imag(eigvals)\")\n",
    "plt.tight_layout()\n",
    "plt.savefig('./simple_example_tv.pdf', dpi=300)\n",
    "plt.show()"
   ]
  },
  {
   "cell_type": "code",
   "execution_count": 51,
   "metadata": {},
   "outputs": [
    {
     "data": {
      "text/plain": [
       "[2.0,\n",
       " 1.2780383995763747,\n",
       " 1.0000000000000002,\n",
       " 0.7171975379820842,\n",
       " 0.004764062441541475]"
      ]
     },
     "execution_count": 51,
     "metadata": {},
     "output_type": "execute_result"
    }
   ],
   "source": [
    "qgft2.tv_"
   ]
  },
  {
   "cell_type": "code",
   "execution_count": 45,
   "metadata": {},
   "outputs": [
    {
     "data": {
      "text/plain": [
       "Quaternion-valued array of shape (5, 5):\n",
       "[[Quaternion(-0.2367479317301651, 0.0, -0.26684363531183425, 0.1605766589495396)\n",
       "  Quaternion(0.5858357990499139, 0.0, -0.020242678340493144, 0.038509548914397625)\n",
       "  Quaternion(2.5928064580839904e-16, 0.0, 4.906610206655482e-17, 1.1829888240531688e-17)\n",
       "  Quaternion(-0.019620980810495993, 0.0, -0.5214495707277336, -0.2815900661282998)\n",
       "  Quaternion(-0.03961964386960813, 0.0, 0.38468269192142945, 0.02693696710291007)]\n",
       " [Quaternion(-0.16658594006074323, -0.1885791278681831, -0.21622940114595582, 0.17063605722662298)\n",
       "  Quaternion(-0.30636777121923114, 0.12542828975731923, 0.0913664410082279, 0.16062136666974536)\n",
       "  Quaternion(-0.41355588079694683, 0.242358585929901, 0.39379349883199416, -0.23333718916557356)\n",
       "  Quaternion(-0.0501932729906538, 0.012069001914165295, -0.11682271444465227, 0.3468187228638393)\n",
       "  Quaternion(-0.014013159130666211, 0.04618914792445236, 0.20109958200322228, 0.3137233515246877)]\n",
       " [Quaternion(-0.2541964654356675, -0.11759030617794758, -0.11248439242684795, 0.13396563772796222)\n",
       "  Quaternion(-0.2105917404171696, 0.13770744241561642, 0.2007955403305602, 0.0947677562125788)\n",
       "  Quaternion(0.19081660757856808, -0.3984130881660443, -0.47694106243311213, 0.37161477652222347)\n",
       "  Quaternion(-0.1049919493916496, -0.039745342331229346, 0.013882921364082455, 0.30695081963144716)\n",
       "  Quaternion(0.008268898098287743, -0.05336822216767942, 0.2560299734274236, 0.20530083069965127)]\n",
       " [Quaternion(-0.2644659154992621, 0.013259628323026698, 0.043485728223097875, 0.2538238193675462)\n",
       "  Quaternion(-0.24613018369157066, -0.4834198382912175, -0.2523277050168873, -0.06082181580202827)\n",
       "  Quaternion(-1.942890293094024e-16, 1.6653345369377348e-16, -3.0531133177191805e-16, -1.942890293094024e-16)\n",
       "  Quaternion(0.36308833282769853, -0.12853342913611437, 0.30492784248737115, -0.35662530358855954)\n",
       "  Quaternion(-0.11018598948544822, -0.034479152917287, 0.2736686776077819, 0.21255626335457045)]\n",
       " [Quaternion(0.3062268248822521, 0.18484554329936748, -0.2477011712020144, -0.5224922982077496)\n",
       "  Quaternion(-0.017677031681969324, -0.15112054820129636, -0.07497545810685374, -0.09020289567382278)\n",
       "  Quaternion(0.0, -1.6653345369377348e-16, 1.3877787807814457e-16, 0.0)\n",
       "  Quaternion(0.06806512192127534, -0.03580361914178085, 0.10071198354299626, 0.14222452596552568)\n",
       "  Quaternion(0.37870892517032495, 0.14221027279397402, 0.5473276289878639, 0.036030281337265165)]]"
      ]
     },
     "execution_count": 45,
     "metadata": {},
     "output_type": "execute_result"
    }
   ],
   "source": [
    "Vq"
   ]
  },
  {
   "cell_type": "code",
   "execution_count": null,
   "metadata": {},
   "outputs": [],
   "source": []
  }
 ],
 "metadata": {
  "kernelspec": {
   "display_name": "Python 3.7.11 ('gspx')",
   "language": "python",
   "name": "python3"
  },
  "language_info": {
   "codemirror_mode": {
    "name": "ipython",
    "version": 3
   },
   "file_extension": ".py",
   "mimetype": "text/x-python",
   "name": "python",
   "nbconvert_exporter": "python",
   "pygments_lexer": "ipython3",
   "version": "3.7.11"
  },
  "orig_nbformat": 4,
  "vscode": {
   "interpreter": {
    "hash": "ad7b04062b11f2f32ad39128cacc2a2bd2b4eeeabc2c58ebe8810cf900e3775b"
   }
  }
 },
 "nbformat": 4,
 "nbformat_minor": 2
}
