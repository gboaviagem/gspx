{
 "cells": [
  {
   "cell_type": "markdown",
   "metadata": {},
   "source": [
    "# Spectral analysis using QGSP\n",
    "\n",
    "This example demonstrates how to build a quaternion graph signal, a quaternion-weighted graph and how to perform a spectral analysis of such signal."
   ]
  },
  {
   "cell_type": "code",
   "execution_count": null,
   "metadata": {},
   "outputs": [],
   "source": [
    "# If gspx is not installed, we add it to the path\n",
    "import os, sys\n",
    "gdir = os.path.dirname(os.getcwd())  # parent folder\n",
    "sys.path.insert(0, gdir)"
   ]
  },
  {
   "cell_type": "code",
   "execution_count": null,
   "metadata": {},
   "outputs": [],
   "source": [
    "import numpy as np\n",
    "\n",
    "from gspx.utils.display import plot_graph\n",
    "from gspx.datasets import SocialGraphData\n",
    "from gspx.signals import QuaternionSignal\n",
    "from gspx.qgsp import create_quaternion_weights, QGFT, QMatrix"
   ]
  },
  {
   "cell_type": "markdown",
   "metadata": {},
   "source": [
    "## Quaternion-weighted graph"
   ]
  },
  {
   "cell_type": "code",
   "execution_count": null,
   "metadata": {},
   "outputs": [],
   "source": [
    "data = SocialGraphData()\n",
    "Ar, coords = data.graph\n",
    "s = data.signal"
   ]
  },
  {
   "cell_type": "code",
   "execution_count": null,
   "metadata": {},
   "outputs": [],
   "source": [
    "df = data.data\n",
    "\n",
    "Aq = create_quaternion_weights(\n",
    "    Ar, df, icols=['median_household_income_2017'],\n",
    "    jcols=['unemployment_rate_2017'],\n",
    "    kcols=['uninsured_2017'], gauss_den=0.5)"
   ]
  },
  {
   "cell_type": "code",
   "execution_count": null,
   "metadata": {},
   "outputs": [],
   "source": [
    "plot_graph(\n",
    "    Aq.abs(), coords=coords, colors=s.to_array()[1:, 0],\n",
    "    figsize=(10, 5), colormap='viridis',\n",
    "    node_size=20)"
   ]
  },
  {
   "cell_type": "code",
   "execution_count": null,
   "metadata": {},
   "outputs": [],
   "source": [
    "qgft = QGFT()\n",
    "qgft.fit(Aq)"
   ]
  },
  {
   "cell_type": "markdown",
   "metadata": {},
   "source": [
    "## Total variation of each eigenvector for each eigenvalue"
   ]
  },
  {
   "cell_type": "code",
   "execution_count": null,
   "metadata": {},
   "outputs": [],
   "source": [
    "import matplotlib.pyplot as plt\n",
    "import numpy as np\n",
    "\n",
    "plt.scatter(np.real(qgft.eigc), np.imag(qgft.eigc), c=qgft.tv_)\n",
    "plt.colorbar()\n",
    "plt.title(\"Total Variation of eigenvectors for each eigenvalue\")\n",
    "plt.xlabel(\"Real(eigvals)\")\n",
    "plt.ylabel(\"Imag(eigvals)\")\n",
    "plt.savefig('../../phd-thesis/thesis/Figures/uk_qgsp_tv.pdf', dpi=300)\n",
    "plt.show()"
   ]
  },
  {
   "cell_type": "code",
   "execution_count": null,
   "metadata": {},
   "outputs": [],
   "source": [
    "obj = QuaternionSignal.from_samples(s.matrix.ravel())\n",
    "node_color = [tuple(rgba) for rgba in obj.to_rgba()]\n",
    "\n",
    "plot_graph(\n",
    "    Aq.abs(), coords=coords, colors=node_color,\n",
    "    figsize=(4, 8), colormap='viridis',\n",
    "    node_size=40)\n",
    "# plt.savefig('../../phd-thesis/thesis/Figures/uk_qgsp_graphsig.pdf', dpi=300)"
   ]
  },
  {
   "cell_type": "code",
   "execution_count": null,
   "metadata": {},
   "outputs": [],
   "source": [
    "ss = qgft.transform(s)"
   ]
  },
  {
   "cell_type": "code",
   "execution_count": null,
   "metadata": {},
   "outputs": [],
   "source": [
    "fig = QuaternionSignal.show(ss, ordering=qgft.idx_freq)\n",
    "fig.savefig('../../phd-thesis/thesis/Figures/uk_qgsp_spectrumsig.pdf', dpi=300)"
   ]
  },
  {
   "cell_type": "code",
   "execution_count": null,
   "metadata": {},
   "outputs": [],
   "source": []
  }
 ],
 "metadata": {
  "kernelspec": {
   "display_name": "Python 3.7.12 ('gspx')",
   "language": "python",
   "name": "python3"
  },
  "language_info": {
   "codemirror_mode": {
    "name": "ipython",
    "version": 3
   },
   "file_extension": ".py",
   "mimetype": "text/x-python",
   "name": "python",
   "nbconvert_exporter": "python",
   "pygments_lexer": "ipython3",
   "version": "3.7.11"
  },
  "orig_nbformat": 4,
  "vscode": {
   "interpreter": {
    "hash": "50f9ca3495cd5f957bb3dec367da9f5b4557b82d21010cefe2ba6d71fda74394"
   }
  }
 },
 "nbformat": 4,
 "nbformat_minor": 2
}
