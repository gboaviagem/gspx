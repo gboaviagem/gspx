{
 "cells": [
  {
   "cell_type": "code",
   "execution_count": null,
   "metadata": {},
   "outputs": [],
   "source": [
    "# If gspx is not installed, we add it to the path\n",
    "import os, sys\n",
    "gdir = os.path.dirname(os.getcwd())  # parent folder\n",
    "sys.path.insert(0, gdir)"
   ]
  },
  {
   "cell_type": "code",
   "execution_count": null,
   "metadata": {},
   "outputs": [],
   "source": [
    "import numpy as np\n",
    "rnd = np.random.RandomState(42)\n",
    "N = 10\n",
    "moduli = rnd.uniform(size=N)\n",
    "component = rnd.randint(4, size=10)"
   ]
  },
  {
   "cell_type": "code",
   "execution_count": null,
   "metadata": {},
   "outputs": [],
   "source": [
    "import networkx as nx\n",
    "from gspx.utils.graph import adj_matrix_ring\n",
    "from gspx.signals import QuaternionSignal\n",
    "from pyquaternion import Quaternion\n",
    "from gspx.utils.display import visualize_quat_mtx\n",
    "\n",
    "\n",
    "s = QuaternionSignal([\n",
    "    dict(array=np.eye(4)[c] * moduli[i]) for i, c in enumerate(component)\n",
    "])\n",
    "s_inv = QuaternionSignal()\n",
    "s_inv.samples = np.array([q.inverse for q in s.samples])\n",
    "\n",
    "# Weight matrix for the quaternion unit graph\n",
    "W = (\n",
    "    adj_matrix_ring(weights=s.samples) +\n",
    "    adj_matrix_ring(weights=s_inv.samples).transpose()\n",
    ")\n",
    "\n",
    "visualize_quat_mtx(W, dpi=150)"
   ]
  },
  {
   "cell_type": "code",
   "execution_count": null,
   "metadata": {},
   "outputs": [],
   "source": [
    "np.abs(W * W.transpose())"
   ]
  },
  {
   "cell_type": "code",
   "execution_count": null,
   "metadata": {},
   "outputs": [],
   "source": [
    "from gspx.utils.quaternion_matrix import complex_adjoint\n",
    "import matplotlib.pyplot as plt\n",
    "\n",
    "W_adj = complex_adjoint(W)\n",
    "eig, V = np.linalg.eig(W_adj)\n",
    "\n",
    "mask = np.imag(eig) < 0\n",
    "\n",
    "plt.plot(np.real(eig[np.where(mask)]), np.imag(eig)[np.where(mask)], 'bo')\n",
    "plt.plot(np.real(eig[np.where(~mask)]), np.imag(eig)[np.where(~mask)], 'ro')\n",
    "plt.show()"
   ]
  },
  {
   "cell_type": "code",
   "execution_count": null,
   "metadata": {},
   "outputs": [],
   "source": [
    "from gspx.utils.graph import coords_ring_graph\n",
    "\n",
    "coords = coords_ring_graph(N)\n",
    "A = (W != 0).astype(int)\n",
    "\n",
    "s = 0.5 + 0.1 * np.cos(coords[:, 0]) + 0.1 * np.sin(coords[:, 1])\n",
    "rnd = np.random.default_rng(seed=2)\n",
    "sn = s + rnd.random(size=len(s))\n",
    "\n",
    "g = nx.from_numpy_matrix(A)\n",
    "\n",
    "print(\"MSE:\", np.linalg.norm(s - sn)**2)"
   ]
  },
  {
   "cell_type": "code",
   "execution_count": null,
   "metadata": {},
   "outputs": [],
   "source": [
    "import matplotlib.pyplot as plt\n",
    "\n",
    "# plt.figure(figsize=(5, 10))\n",
    "# node_color = [tuple(rgba) for rgba in s.to_rgba()]\n",
    "color_signal = (sn - np.min(sn)) / (np.max(sn) - np.min(sn))\n",
    "node_color = [tuple([0, rgba, rgba, rgba]) for rgba in color_signal]\n",
    "nx.draw(\n",
    "    g, pos=coords, node_size=30,\n",
    "    edge_color=(0.8, 0.8, 0.8, 0.5),\n",
    "    with_labels=False, node_color=node_color)"
   ]
  },
  {
   "cell_type": "markdown",
   "metadata": {},
   "source": [
    "# q-QLMS"
   ]
  },
  {
   "cell_type": "code",
   "execution_count": null,
   "metadata": {},
   "outputs": [],
   "source": [
    "class qQLMS:\n",
    "    def __init__(\n",
    "            self, q=1.0, mu=2, niter=100, rtol=0.05, seed=42,\n",
    "            verbose=True):\n",
    "        self.q = q\n",
    "        self.rnd = np.random.default_rng(seed=seed)\n",
    "        self.verbose = verbose\n",
    "        self.niter = niter\n",
    "        self.rtol = rtol\n",
    "        self.mu = mu\n",
    "\n",
    "    def run(self, X, d):\n",
    "        \"\"\"Fit the algorithm\"\"\"\n",
    "        n_feat, n_obs = X.shape\n",
    "        assert len(d) == n_obs\n",
    "\n",
    "        w_previous = self.initiate(n_feat)\n",
    "\n",
    "        r_err = 2 * self.rtol\n",
    "        niter = 0\n",
    "        err_previous = 0\n",
    "        # while r_err > self.rtol and niter < self.niter:\n",
    "        for i in range(n_obs):\n",
    "            x = X[:, i].copy()\n",
    "            y = np.sum(w_previous.conjugate() * x)\n",
    "            err = d[i] - y\n",
    "\n",
    "            r_err = np.abs((err - err_previous) / (err + 1e-7))\n",
    "\n",
    "            w_previous = self.update(w_previous, x, err)\n",
    "            print(\"MSE:\", np.mean(np.abs(err * err.conjugate())))\n",
    "            print(\"r_err:\", np.mean(r_err**2))\n",
    "\n",
    "    def initiate(self, n_feat):\n",
    "        return self.rnd.normal(loc=0.0, scale=1.0, size=n_feat)\n",
    "\n",
    "    def update(self, w_previous, x, err):\n",
    "        w_next = w_previous + self.mu * (\n",
    "            0.5 * x * err.conjugate()\n",
    "        )\n",
    "        return w_next\n"
   ]
  },
  {
   "cell_type": "code",
   "execution_count": null,
   "metadata": {},
   "outputs": [],
   "source": [
    "eigq = eig[np.where(np.imag(eig) < 0)]"
   ]
  },
  {
   "cell_type": "code",
   "execution_count": null,
   "metadata": {},
   "outputs": [],
   "source": [
    "X = np.vander(eigq, increasing=True).T  # each observation is the power series of one eigenvalue\n",
    "d = np.zeros(N)\n",
    "d[:int(N/4)] = 1.0"
   ]
  },
  {
   "cell_type": "code",
   "execution_count": null,
   "metadata": {},
   "outputs": [],
   "source": [
    "opt = qQLMS(mu=0.5)\n",
    "opt.run(X, d)"
   ]
  },
  {
   "cell_type": "code",
   "execution_count": null,
   "metadata": {},
   "outputs": [],
   "source": [
    "import numpy as np\n",
    "import math\n",
    "\n",
    "def hypothesis(x, theta):\n",
    "    \"\"\"\n",
    "    x is training set\n",
    "    theta is weight parameter\n",
    "    \"\"\"\n",
    "    return np.transpose(np.array(theta)).dot(np.array(x))\n",
    "\n",
    "def costFunction(theta, x, y):\n",
    "    \"\"\"\n",
    "        x is training set => (j, 2)\n",
    "        y is a vector of\n",
    "        theta is weight parameter\n",
    "        \"\"\"\n",
    "    factor = 1 / 2\n",
    "    sum = 0\n",
    "    for i in range(0, len(x)):\n",
    "        sum += math.pow((hypothesis(x[i], theta) - y[i]), 2)\n",
    "    return factor * sum\n",
    "\n",
    "def learnThetaSingle(theta, x, y, alpha):\n",
    "    return theta + alpha * (y - hypothesis(x, theta)) * x\n",
    "\n",
    "def learnTheta(theta, x, y, alpha):\n",
    "    f = theta\n",
    "    for i in range(0, len(x)):\n",
    "        f = learnThetaSingle(f, x[i], y[i], alpha)\n",
    "    return f\n",
    "\n",
    "testX = np.array([[1, 2],\n",
    "                   [4, 6],\n",
    "                   [5, 123],\n",
    "                   [41, -14],\n",
    "                   [-413, 0],\n",
    "                   [0, 0],\n",
    "                   [5, 12],\n",
    "                   [-3, -14],\n",
    "                   [1, 1004],\n",
    "                   [51, 51]])\n",
    "\n",
    "testY = np.array([3, 10, 128, 27, -413, 0, 17, -17, 1005, 102])\n",
    "theta = [2, 3]\n",
    "print(costFunction(theta, testX, testY)) \n",
    "# 2147656.0\n",
    "theta = learnTheta(theta, testX, testY, 0.0001)\n",
    "print(theta)\n",
    "#[-29.59330648  68.71968433] , this is far from true"
   ]
  }
 ],
 "metadata": {
  "interpreter": {
   "hash": "50f9ca3495cd5f957bb3dec367da9f5b4557b82d21010cefe2ba6d71fda74394"
  },
  "kernelspec": {
   "display_name": "Python 3.7.12 ('gspx')",
   "language": "python",
   "name": "python3"
  },
  "language_info": {
   "codemirror_mode": {
    "name": "ipython",
    "version": 3
   },
   "file_extension": ".py",
   "mimetype": "text/x-python",
   "name": "python",
   "nbconvert_exporter": "python",
   "pygments_lexer": "ipython3",
   "version": "3.7.11"
  },
  "orig_nbformat": 4
 },
 "nbformat": 4,
 "nbformat_minor": 2
}
